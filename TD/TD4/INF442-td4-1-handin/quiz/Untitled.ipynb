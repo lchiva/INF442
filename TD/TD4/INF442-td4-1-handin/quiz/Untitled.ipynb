{
 "cells": [
  {
   "cell_type": "code",
   "execution_count": 17,
   "metadata": {},
   "outputs": [],
   "source": [
    "import pandas as pd\n",
    "import matplotlib.pyplot as plt\n",
    "from scipy.cluster.hierarchy import dendrogram, linkage\n",
    "\n"
   ]
  },
  {
   "cell_type": "code",
   "execution_count": 21,
   "metadata": {},
   "outputs": [
    {
     "name": "stdout",
     "output_type": "stream",
     "text": [
      "     x    y name\n",
      "0  1.0  5.0    A\n",
      "1  2.0  5.5    B\n",
      "2  3.5  3.0    C\n",
      "3  6.0  5.5    D\n",
      "4  6.0  2.8    E\n",
      "5  6.1  3.2    F\n"
     ]
    },
    {
     "data": {
      "image/png": "[encoded data removed]",
      "text/plain": [
       "<Figure size 432x288 with 1 Axes>"
      ]
     },
     "metadata": {
      "needs_background": "light"
     },
     "output_type": "display_data"
    }
   ],
   "source": [
    "fname = \"../csv/test6.csv\"\n",
    "data = pd.read_csv(fname, header=0)\n",
    "print(data)\n",
    "tree = linkage(data[['x', 'y']])\n",
    "D = dendrogram(tree, labels=data['name'].to_numpy(), orientation='left')\n",
    "plt.show()"
   ]
  },
  {
   "cell_type": "code",
   "execution_count": 19,
   "metadata": {},
   "outputs": [],
   "source": [
    "fname1 = \"../csv/languages.csv\"\n",
    "def load_distance_matrix(fname1):\n",
    "    \"\"\"\n",
    "    Takes as input a name of a file containing the information about a graph:\n",
    "      - first line: number of vertices\n",
    "      - then labels, one per line\n",
    "      - then the distance matrix, one row per line, the entries separated by commas\n",
    "    Returns a tuple containing a distance matrix in the condenced 1-d format and a list of labels\n",
    "    \"\"\"\n",
    "    with open(fname, \"r\") as f:\n",
    "        n = int(f.readline())\n",
    "        labels = [f.readline().strip() for _ in range(n)]\n",
    "        dist_matrix = [[float(x) for x in f.readline().split(',')] for _ in range(n)]\n",
    "        return (squareform(dist_matrix), labels)"
   ]
  },
  {
   "cell_type": "code",
   "execution_count": 32,
   "metadata": {},
   "outputs": [
    {
     "name": "stdout",
     "output_type": "stream",
     "text": [
      "       a    b    c    d            name\n",
      "0    5.1  3.5  1.4  0.2     Iris-setosa\n",
      "1    4.9  3.0  1.4  0.2     Iris-setosa\n",
      "2    4.7  3.2  1.3  0.2     Iris-setosa\n",
      "3    4.6  3.1  1.5  0.2     Iris-setosa\n",
      "4    5.0  3.6  1.4  0.2     Iris-setosa\n",
      "..   ...  ...  ...  ...             ...\n",
      "145  6.7  3.0  5.2  2.3  Iris-virginica\n",
      "146  6.3  2.5  5.0  1.9  Iris-virginica\n",
      "147  6.5  3.0  5.2  2.0  Iris-virginica\n",
      "148  6.2  3.4  5.4  2.3  Iris-virginica\n",
      "149  5.9  3.0  5.1  1.8  Iris-virginica\n",
      "\n",
      "[150 rows x 5 columns]\n"
     ]
    },
    {
     "data": {
      "image/png": "[encoded data removed]",
      "text/plain": [
       "<Figure size 432x288 with 1 Axes>"
      ]
     },
     "metadata": {
      "needs_background": "light"
     },
     "output_type": "display_data"
    }
   ],
   "source": [
    "fname1 = \"../csv/iris.csv\"\n",
    "data1 = pd.read_csv(fname1, header=0)\n",
    "print(data1)\n",
    "tree1 = linkage(data1[['a', 'b','c','d']])\n",
    "D1 = dendrogram(tree1, labels=data1['name'].to_numpy(),leaf_font_size=5)\n",
    "plt.show()"
   ]
  },
  {
   "cell_type": "code",
   "execution_count": null,
   "metadata": {},
   "outputs": [],
   "source": []
  },
  {
   "cell_type": "code",
   "execution_count": null,
   "metadata": {},
   "outputs": [],
   "source": []
  }
 ],
 "metadata": {
  "kernelspec": {
   "display_name": "Python 3",
   "language": "python",
   "name": "python3"
  },
  "language_info": {
   "codemirror_mode": {
    "name": "ipython",
    "version": 3
   },
   "file_extension": ".py",
   "mimetype": "text/x-python",
   "name": "python",
   "nbconvert_exporter": "python",
   "pygments_lexer": "ipython3",
   "version": "3.7.4"
  }
 },
 "nbformat": 4,
 "nbformat_minor": 2
}
