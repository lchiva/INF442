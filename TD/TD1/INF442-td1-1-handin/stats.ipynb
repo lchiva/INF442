{
 "cells": [
  {
   "cell_type": "code",
   "execution_count": 1,
   "metadata": {},
   "outputs": [],
   "source": [
    "import pandas as pd\n",
    "pd.set_option('display.max_columns',100)\n",
    "pd.set_option('display.max_rows',100)\n",
    "pd.set_option('display.precision',2)"
   ]
  },
  {
   "cell_type": "code",
   "execution_count": 2,
   "metadata": {},
   "outputs": [],
   "source": [
    "data = pd.read_csv('csv/wines.csv',index_col=0)"
   ]
  },
  {
   "cell_type": "code",
   "execution_count": 3,
   "metadata": {},
   "outputs": [
    {
     "name": "stdout",
     "output_type": "stream",
     "text": [
      "             CHAMPAGNE  MOUSSEUX_AOC  MOUSSEUX_SIMPLE  ALSACE  GIRONDE  \\\n",
      "BELGIUM           7069          2436             3066    2422    22986   \n",
      "Netherlands       3786           586              290    1999    22183   \n",
      "GERMANY          12578          2006            10439   17183    21023   \n",
      "ITALY             8037            30             1413      57       56   \n",
      "UK               13556          1217             7214    1127    30025   \n",
      "Switzerland       9664           471              112     600     6544   \n",
      "USA              10386           997             3788     408    13114   \n",
      "CANADA             206            51              330     241     3447   \n",
      "\n",
      "             BEAUJOLAIS  BORDEAUX  RHONE  ANJOU  AOC_OTHERS  VDQS  AUTRE_VDQS  \\\n",
      "BELGIUM           17465      3784   7950   2587       17200  1976       38747   \n",
      "Netherlands       19840      2339  10537    600       22806  1029       19151   \n",
      "GERMANY           72977      4828   7552   2101       15979  1346      191140   \n",
      "ITALY              2364        98     24      0          50     0        7992   \n",
      "UK                39919      7885   8172   7582       20004  2258      101108   \n",
      "Switzerland       17327      3191  11691    143        1279   212        1029   \n",
      "USA               17487     11791   1369    872        4016  1017       26192   \n",
      "CANADA             2346      1188   1798    131         944   487       38503   \n",
      "\n",
      "             PROVENCE  MUSCAT  AOC_STRONG  OTHER_STRONG  VERY_STRONG  \n",
      "BELGIUM          1375    2016         160            24         2415  \n",
      "Netherlands      1150    2908         246          1533           74  \n",
      "GERMANY          2514    1529         135           160          208  \n",
      "ITALY               0       0           8             0            8  \n",
      "UK                284   12891        1177           480         1705  \n",
      "Switzerland       401      18          26             0           12  \n",
      "USA                 9     716           7             0           36  \n",
      "CANADA            236     653           0             0           47  \n"
     ]
    }
   ],
   "source": [
    "print(data)"
   ]
  },
  {
   "cell_type": "code",
   "execution_count": 4,
   "metadata": {},
   "outputs": [
    {
     "name": "stdout",
     "output_type": "stream",
     "text": [
      "\n",
      "Countries:\n",
      "                 mean  variance  sample variance\n",
      "BELGIUM       7863.41  1.03e+08         1.09e+08\n",
      "Netherlands   6532.76  7.03e+07         7.47e+07\n",
      "GERMANY      21394.00  2.08e+09         2.21e+09\n",
      "ITALY         1184.53  6.60e+06         7.01e+06\n",
      "UK           15094.35  5.79e+08         6.15e+08\n",
      "Switzerland   3101.18  2.49e+07         2.65e+07\n",
      "USA           5423.82  5.57e+07         5.92e+07\n",
      "CANADA        2976.94  7.97e+07         8.47e+07\n"
     ]
    }
   ],
   "source": [
    "#stats per country\n",
    "print(\"\\nCountries:\")\n",
    "meanvar = pd.concat([data.mean(axis=1),data.var(axis=1,ddof=0),data.var(axis=1,ddof=1)],axis=1)\n",
    "meanvar.columns = ['mean','variance','sample variance']\n",
    "print(meanvar)\n",
    "meanvar.to_csv('csv/test.csv')"
   ]
  },
  {
   "cell_type": "code",
   "execution_count": 5,
   "metadata": {},
   "outputs": [
    {
     "name": "stdout",
     "output_type": "stream",
     "text": [
      "\n",
      "Wines:\n",
      "                     mean  variance  sample variance\n",
      "AUTRE_VDQS       52982.75  3.55e+09         4.06e+09\n",
      "BEAUJOLAIS       23715.62  4.67e+08         5.34e+08\n",
      "GIRONDE          14922.25  1.01e+08         1.16e+08\n",
      "AOC_OTHERS       10284.75  8.05e+07         9.20e+07\n",
      "ALSACE            3004.62  2.93e+07         3.35e+07\n",
      "CHAMPAGNE         8160.25  1.74e+07         1.99e+07\n",
      "RHONE             6136.62  1.73e+07         1.98e+07\n",
      "MUSCAT            2591.38  1.60e+07         1.83e+07\n",
      "BORDEAUX          4388.00  1.27e+07         1.46e+07\n",
      "MOUSSEUX_SIMPLE   3331.50  1.23e+07         1.40e+07\n",
      "ANJOU             1752.00  5.65e+06         6.46e+06\n",
      "VERY_STRONG        563.12  7.82e+05         8.94e+05\n",
      "MOUSSEUX_AOC       974.25  6.76e+05         7.73e+05\n",
      "PROVENCE           746.12  6.72e+05         7.68e+05\n",
      "VDQS              1040.62  5.66e+05         6.47e+05\n",
      "OTHER_STRONG       274.62  2.50e+05         2.86e+05\n",
      "AOC_STRONG         219.88  1.38e+05         1.58e+05\n"
     ]
    }
   ],
   "source": [
    "# stats per wine\n",
    "print('\\nWines:')\n",
    "meanvar = pd.concat([data.mean(axis=0), data.var(axis=0, ddof=0), data.var(axis=0, ddof=1)], axis=1)\n",
    "meanvar.columns = ['mean', 'variance', 'sample variance']\n",
    "print(meanvar.sort_values(['variance'], ascending=False))\n"
   ]
  },
  {
   "cell_type": "code",
   "execution_count": 6,
   "metadata": {},
   "outputs": [
    {
     "name": "stdout",
     "output_type": "stream",
     "text": [
      "\n",
      "Wines correlation matrix:\n",
      "                 CHAMPAGNE  MOUSSEUX_AOC  MOUSSEUX_SIMPLE    ALSACE  GIRONDE  \\\n",
      "CHAMPAGNE             1.00          0.46             0.74  3.90e-01     0.43   \n",
      "MOUSSEUX_AOC          0.46          1.00             0.66  5.67e-01     0.72   \n",
      "MOUSSEUX_SIMPLE       0.74          0.66             1.00  7.72e-01     0.59   \n",
      "ALSACE                0.39          0.57             0.77  1.00e+00     0.34   \n",
      "GIRONDE               0.43          0.72             0.59  3.36e-01     1.00   \n",
      "BEAUJOLAIS            0.66          0.63             0.91  8.85e-01     0.63   \n",
      "BORDEAUX              0.60          0.38             0.48  4.67e-02     0.46   \n",
      "RHONE                 0.21          0.36             0.08  2.21e-01     0.56   \n",
      "ANJOU                 0.58          0.47             0.62  1.02e-01     0.78   \n",
      "AOC_OTHERS            0.21          0.61             0.45  3.60e-01     0.93   \n",
      "VDQS                  0.41          0.79             0.62  2.50e-01     0.93   \n",
      "AUTRE_VDQS            0.51          0.58             0.93  8.82e-01     0.53   \n",
      "PROVENCE              0.18          0.71             0.57  8.87e-01     0.50   \n",
      "MUSCAT                0.43          0.23             0.44 -5.95e-02     0.72   \n",
      "AOC_STRONG            0.46          0.22             0.45 -4.60e-02     0.71   \n",
      "OTHER_STRONG         -0.21         -0.08            -0.12 -8.68e-03     0.49   \n",
      "VERY_STRONG           0.23          0.70             0.28 -5.24e-02     0.65   \n",
      "\n",
      "                 BEAUJOLAIS  BORDEAUX  RHONE  ANJOU  AOC_OTHERS  VDQS  \\\n",
      "CHAMPAGNE              0.66      0.60   0.21   0.58        0.21  0.41   \n",
      "MOUSSEUX_AOC           0.63      0.38   0.36   0.47        0.61  0.79   \n",
      "MOUSSEUX_SIMPLE        0.91      0.48   0.08   0.62        0.45  0.62   \n",
      "ALSACE                 0.89      0.05   0.22   0.10        0.36  0.25   \n",
      "GIRONDE                0.63      0.46   0.56   0.78        0.93  0.93   \n",
      "BEAUJOLAIS             1.00      0.34   0.41   0.48        0.56  0.53   \n",
      "BORDEAUX               0.34      1.00  -0.04   0.45        0.18  0.51   \n",
      "RHONE                  0.41     -0.04   1.00   0.28        0.60  0.35   \n",
      "ANJOU                  0.48      0.45   0.28   1.00        0.60  0.84   \n",
      "AOC_OTHERS             0.56      0.18   0.60   0.60        1.00  0.80   \n",
      "VDQS                   0.53      0.51   0.35   0.84        0.80  1.00   \n",
      "AUTRE_VDQS             0.93      0.24   0.15   0.50        0.46  0.52   \n",
      "PROVENCE               0.76     -0.10   0.47   0.08        0.60  0.39   \n",
      "MUSCAT                 0.35      0.37   0.29   0.95        0.60  0.73   \n",
      "AOC_STRONG             0.36      0.34   0.33   0.95        0.60  0.71   \n",
      "OTHER_STRONG           0.11     -0.10   0.48   0.12        0.69  0.21   \n",
      "VERY_STRONG            0.14      0.18   0.28   0.70        0.54  0.82   \n",
      "\n",
      "                 AUTRE_VDQS  PROVENCE  MUSCAT  AOC_STRONG  OTHER_STRONG  \\\n",
      "CHAMPAGNE              0.51      0.18    0.43        0.46     -2.06e-01   \n",
      "MOUSSEUX_AOC           0.58      0.71    0.23        0.22     -8.46e-02   \n",
      "MOUSSEUX_SIMPLE        0.93      0.57    0.44        0.45     -1.19e-01   \n",
      "ALSACE                 0.88      0.89   -0.06       -0.05     -8.68e-03   \n",
      "GIRONDE                0.53      0.50    0.72        0.71      4.86e-01   \n",
      "BEAUJOLAIS             0.93      0.76    0.35        0.36      1.11e-01   \n",
      "BORDEAUX               0.24     -0.10    0.37        0.34     -9.85e-02   \n",
      "RHONE                  0.15      0.47    0.29        0.33      4.80e-01   \n",
      "ANJOU                  0.50      0.08    0.95        0.95      1.16e-01   \n",
      "AOC_OTHERS             0.46      0.60    0.60        0.60      6.94e-01   \n",
      "VDQS                   0.52      0.39    0.73        0.71      2.12e-01   \n",
      "AUTRE_VDQS             1.00      0.71    0.35        0.35     -2.93e-02   \n",
      "PROVENCE               0.71      1.00   -0.06       -0.05      2.12e-01   \n",
      "MUSCAT                 0.35     -0.06    1.00        1.00      3.27e-01   \n",
      "AOC_STRONG             0.35     -0.05    1.00        1.00      3.26e-01   \n",
      "OTHER_STRONG          -0.03      0.21    0.33        0.33      1.00e+00   \n",
      "VERY_STRONG            0.17      0.18    0.56        0.55     -6.05e-02   \n",
      "\n",
      "                 VERY_STRONG  \n",
      "CHAMPAGNE               0.23  \n",
      "MOUSSEUX_AOC            0.70  \n",
      "MOUSSEUX_SIMPLE         0.28  \n",
      "ALSACE                 -0.05  \n",
      "GIRONDE                 0.65  \n",
      "BEAUJOLAIS              0.14  \n",
      "BORDEAUX                0.18  \n",
      "RHONE                   0.28  \n",
      "ANJOU                   0.70  \n",
      "AOC_OTHERS              0.54  \n",
      "VDQS                    0.82  \n",
      "AUTRE_VDQS              0.17  \n",
      "PROVENCE                0.18  \n",
      "MUSCAT                  0.56  \n",
      "AOC_STRONG              0.55  \n",
      "OTHER_STRONG           -0.06  \n",
      "VERY_STRONG             1.00  \n",
      "\n",
      "Countries correlation matrix:\n",
      "             BELGIUM  Netherlands  GERMANY  ITALY    UK  Switzerland   USA  \\\n",
      "BELGIUM         1.00         0.87     0.87   0.58  0.94         0.32  0.87   \n",
      "Netherlands     0.87         1.00     0.58   0.28  0.69         0.51  0.67   \n",
      "GERMANY         0.87         0.58     1.00   0.70  0.97         0.19  0.85   \n",
      "ITALY           0.58         0.28     0.70   1.00  0.69         0.30  0.71   \n",
      "UK              0.94         0.69     0.97   0.69  1.00         0.23  0.89   \n",
      "Switzerland     0.32         0.51     0.19   0.30  0.23         1.00  0.46   \n",
      "USA             0.87         0.67     0.85   0.71  0.89         0.46  1.00   \n",
      "CANADA          0.81         0.45     0.95   0.66  0.93        -0.03  0.75   \n",
      "\n",
      "             CANADA  \n",
      "BELGIUM        0.81  \n",
      "Netherlands    0.45  \n",
      "GERMANY        0.95  \n",
      "ITALY          0.66  \n",
      "UK             0.93  \n",
      "Switzerland   -0.03  \n",
      "USA            0.75  \n",
      "CANADA         1.00  \n"
     ]
    }
   ],
   "source": [
    "# correlation matrices\n",
    "print('\\nWines correlation matrix:')\n",
    "print(data.corr())\n",
    "data.corr().to_csv('csv/test.csv')\n",
    "\n",
    "print('\\nCountries correlation matrix:')\n",
    "print(data.transpose().corr())\n",
    "data.corr().to_csv('csv/test.csv')"
   ]
  },
  {
   "cell_type": "code",
   "execution_count": null,
   "metadata": {},
   "outputs": [],
   "source": []
  }
 ],
 "metadata": {
  "interpreter": {
   "hash": "7812ea015bdcee6f23a998adcdd2ef97c151c0c241b7b7070987d9313e41299d"
  },
  "kernelspec": {
   "display_name": "Python 3.9.0 64-bit",
   "language": "python",
   "name": "python3"
  },
  "language_info": {
   "codemirror_mode": {
    "name": "ipython",
    "version": 3
   },
   "file_extension": ".py",
   "mimetype": "text/x-python",
   "name": "python",
   "nbconvert_exporter": "python",
   "pygments_lexer": "ipython3",
   "version": "3.7.4"
  }
 },
 "nbformat": 4,
 "nbformat_minor": 2
}
