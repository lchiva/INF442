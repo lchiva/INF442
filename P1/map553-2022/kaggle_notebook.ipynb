{
 "cells": [
  {
   "cell_type": "code",
   "execution_count": 1,
   "metadata": {
    "_cell_guid": "b1076dfc-b9ad-4769-8c92-a6c4dae69d19",
    "_uuid": "8f2839f25d086af736a60e9eeb907d3b93b6e0e5"
   },
   "outputs": [],
   "source": [
    "import numpy as np\n",
    "import pandas as pd\n",
    "pd.set_option('display.max_columns', 60)\n",
    "import math\n",
    "import csv\n",
    "from IPython.core.pylabtools import figsize\n",
    "from matplotlib import pyplot as plt\n",
    "import seaborn as sns\n",
    "sns.set_context(font_scale=2)\n",
    "from sklearn.preprocessing import PolynomialFeatures\n",
    "from sklearn import model_selection\n",
    "import warnings\n",
    "import scipy\n",
    "# Ignore all warnings\n",
    "warnings.simplefilter('ignore')\n",
    "from sklearn.neighbors import KNeighborsClassifier\n",
    "from sklearn.ensemble import RandomForestClassifier, ExtraTreesClassifier\n",
    "from xgboost import XGBClassifier\n",
    "from sklearn.svm import SVC\n",
    "from sklearn.decomposition import PCA\n",
    "from sklearn.linear_model import LogisticRegression\n",
    "from sklearn.neighbors import KNeighborsClassifier\n",
    "from sklearn.naive_bayes import GaussianNB   \n",
    "from sklearn.tree import DecisionTreeClassifier\n",
    "from sklearn.ensemble import RandomForestClassifier\n",
    "from sklearn.neural_network import MLPClassifier\n",
    "\n",
    "from sklearn import metrics\n",
    "from sklearn.preprocessing import LabelEncoder\n",
    "from sklearn.model_selection import train_test_split, RandomizedSearchCV, GridSearchCV, cross_val_score\n",
    "from sklearn.metrics import accuracy_score, confusion_matrix\n",
    "from sklearn.preprocessing import StandardScaler\n",
    "\n",
    "#test lazy classifier\n",
    "from lazypredict.Supervised import LazyClassifier\n"
   ]
  },
  {
   "cell_type": "markdown",
   "metadata": {},
   "source": [
    "# Exploration of Data"
   ]
  },
  {
   "cell_type": "markdown",
   "metadata": {},
   "source": [
    "## General Information\n",
    "\n",
    "The problem of classification of Forest Cover Type is composed of 56 features, one of them is the \"target_feature\" and another one is an irrelevant feature which is \"Id\".\n",
    "\n",
    "**Information of each attribute:**\n",
    "\n",
    "   - Elevation, quantitative (meters): Elevation in meters\n",
    "   - Aspect, quantitative (azimuth): Aspect in degrees azimuth\n",
    "   - Slope, quantitative (degrees): Slope in degrees\n",
    "   - Horizontal_Distance_To_Hydrology , quantitative (meters): Horz Dist to nearest surface water features\n",
    "   - Vertical_Distance_To_Hydrology , quantitative (meters): Vert Dist to nearest surface water features\n",
    "   - Horizontal_Distance_To_Roadways , quantitative (meters ): Horz Dist to nearest roadway \n",
    "   - Hillshade_9am , quantitative (0 to 255 index): Hillshade index at 9am, summer solstice\n",
    "   - Hillshade_Noon, quantitative (0 to 255 index): Hillshade index at noon, summer soltice\n",
    "   - Hillshade_3pm, quantitative (0 to 255 index): Hillshade index at 3pm, summer solstice\n",
    "   - Horizontal_Distance_To_Fire_Points, quantitative (meters): Horz Dist to nearest wildfire ignition points\n",
    "   - Wilderness_Area (4 binary columns), qualitative (0 (absence) or 1 (presence)): Wilderness area designation\n",
    "   - Soil_Type (40 binary columns), qualitative ( 0 (absence) or 1 (presence)): Soil Type designation\n",
    "   - Cover_Type (7 types), integer (1 to 7): Forest Cover Type designation\n",
    "    "
   ]
  },
  {
   "cell_type": "markdown",
   "metadata": {},
   "source": [
    "**Loading data**"
   ]
  },
  {
   "cell_type": "code",
   "execution_count": 2,
   "metadata": {
    "_cell_guid": "79c7e3d0-c299-4dcb-8224-4455121ee9b0",
    "_uuid": "d629ff2d2480ee46fbb7e2d37f6b5fab8052498a"
   },
   "outputs": [
    {
     "name": "stdout",
     "output_type": "stream",
     "text": [
      "Shape of training data:  (15120, 56)\n"
     ]
    }
   ],
   "source": [
    "train_data = pd.read_csv('../map553-2022/train.csv')\n",
    "print(\"Shape of training data: \", train_data.shape)"
   ]
  },
  {
   "cell_type": "markdown",
   "metadata": {},
   "source": [
    "There are 15120 row in the training data with 56 attributes where there are two attribute that are not relevant for training our model \"Cover_Type : which is the target_feature\" and \"Id\". full_test has 55 features which is not include \"Cover_Type\"."
   ]
  },
  {
   "cell_type": "markdown",
   "metadata": {},
   "source": [
    "  -> Check if all features are numeric. We have to check this becuase some algorithms can only handle the numeric data."
   ]
  },
  {
   "cell_type": "code",
   "execution_count": 3,
   "metadata": {
    "_kg_hide-output": true
   },
   "outputs": [],
   "source": [
    "# I commented this in order to shorted the pdf\n",
    "# display(train_data.info())"
   ]
  },
  {
   "cell_type": "markdown",
   "metadata": {},
   "source": [
    "-> Check if there is no missing value in dataset because some machine learning algorithms cannot handle missing values and will produce an error or produce incorrect results if the data contains missing values."
   ]
  },
  {
   "cell_type": "code",
   "execution_count": 4,
   "metadata": {},
   "outputs": [],
   "source": [
    "# I commented this in order to shorted the pdf\n",
    "# train_data.isnull().sum()"
   ]
  },
  {
   "cell_type": "code",
   "execution_count": 5,
   "metadata": {},
   "outputs": [
    {
     "data": {
      "text/html": [
       "<div>\n",
       "<style scoped>\n",
       "    .dataframe tbody tr th:only-of-type {\n",
       "        vertical-align: middle;\n",
       "    }\n",
       "\n",
       "    .dataframe tbody tr th {\n",
       "        vertical-align: top;\n",
       "    }\n",
       "\n",
       "    .dataframe thead th {\n",
       "        text-align: right;\n",
       "    }\n",
       "</style>\n",
       "<table border=\"1\" class=\"dataframe\">\n",
       "  <thead>\n",
       "    <tr style=\"text-align: right;\">\n",
       "      <th></th>\n",
       "      <th>Id</th>\n",
       "      <th>Elevation</th>\n",
       "      <th>Aspect</th>\n",
       "      <th>Slope</th>\n",
       "      <th>Horizontal_Distance_To_Hydrology</th>\n",
       "      <th>Vertical_Distance_To_Hydrology</th>\n",
       "      <th>Horizontal_Distance_To_Roadways</th>\n",
       "      <th>Hillshade_9am</th>\n",
       "      <th>Hillshade_Noon</th>\n",
       "      <th>Hillshade_3pm</th>\n",
       "      <th>Horizontal_Distance_To_Fire_Points</th>\n",
       "      <th>Wilderness_Area1</th>\n",
       "      <th>Wilderness_Area2</th>\n",
       "      <th>Wilderness_Area3</th>\n",
       "      <th>Wilderness_Area4</th>\n",
       "      <th>Soil_Type1</th>\n",
       "      <th>Soil_Type2</th>\n",
       "      <th>Soil_Type3</th>\n",
       "      <th>Soil_Type4</th>\n",
       "      <th>Soil_Type5</th>\n",
       "      <th>Soil_Type6</th>\n",
       "      <th>Soil_Type7</th>\n",
       "      <th>Soil_Type8</th>\n",
       "      <th>Soil_Type9</th>\n",
       "      <th>Soil_Type10</th>\n",
       "      <th>Soil_Type11</th>\n",
       "      <th>Soil_Type12</th>\n",
       "      <th>Soil_Type13</th>\n",
       "      <th>Soil_Type14</th>\n",
       "      <th>Soil_Type15</th>\n",
       "      <th>Soil_Type16</th>\n",
       "      <th>Soil_Type17</th>\n",
       "      <th>Soil_Type18</th>\n",
       "      <th>Soil_Type19</th>\n",
       "      <th>Soil_Type20</th>\n",
       "      <th>Soil_Type21</th>\n",
       "      <th>Soil_Type22</th>\n",
       "      <th>Soil_Type23</th>\n",
       "      <th>Soil_Type24</th>\n",
       "      <th>Soil_Type25</th>\n",
       "      <th>Soil_Type26</th>\n",
       "      <th>Soil_Type27</th>\n",
       "      <th>Soil_Type28</th>\n",
       "      <th>Soil_Type29</th>\n",
       "      <th>Soil_Type30</th>\n",
       "      <th>Soil_Type31</th>\n",
       "      <th>Soil_Type32</th>\n",
       "      <th>Soil_Type33</th>\n",
       "      <th>Soil_Type34</th>\n",
       "      <th>Soil_Type35</th>\n",
       "      <th>Soil_Type36</th>\n",
       "      <th>Soil_Type37</th>\n",
       "      <th>Soil_Type38</th>\n",
       "      <th>Soil_Type39</th>\n",
       "      <th>Soil_Type40</th>\n",
       "      <th>Cover_Type</th>\n",
       "    </tr>\n",
       "  </thead>\n",
       "  <tbody>\n",
       "    <tr>\n",
       "      <th>0</th>\n",
       "      <td>242642</td>\n",
       "      <td>2881</td>\n",
       "      <td>130</td>\n",
       "      <td>22</td>\n",
       "      <td>210</td>\n",
       "      <td>54</td>\n",
       "      <td>1020</td>\n",
       "      <td>250</td>\n",
       "      <td>221</td>\n",
       "      <td>88</td>\n",
       "      <td>342</td>\n",
       "      <td>1</td>\n",
       "      <td>0</td>\n",
       "      <td>0</td>\n",
       "      <td>0</td>\n",
       "      <td>0</td>\n",
       "      <td>0</td>\n",
       "      <td>0</td>\n",
       "      <td>0</td>\n",
       "      <td>0</td>\n",
       "      <td>0</td>\n",
       "      <td>0</td>\n",
       "      <td>0</td>\n",
       "      <td>0</td>\n",
       "      <td>0</td>\n",
       "      <td>0</td>\n",
       "      <td>0</td>\n",
       "      <td>0</td>\n",
       "      <td>0</td>\n",
       "      <td>0</td>\n",
       "      <td>0</td>\n",
       "      <td>0</td>\n",
       "      <td>0</td>\n",
       "      <td>0</td>\n",
       "      <td>0</td>\n",
       "      <td>0</td>\n",
       "      <td>0</td>\n",
       "      <td>0</td>\n",
       "      <td>0</td>\n",
       "      <td>0</td>\n",
       "      <td>0</td>\n",
       "      <td>0</td>\n",
       "      <td>0</td>\n",
       "      <td>0</td>\n",
       "      <td>1</td>\n",
       "      <td>0</td>\n",
       "      <td>0</td>\n",
       "      <td>0</td>\n",
       "      <td>0</td>\n",
       "      <td>0</td>\n",
       "      <td>0</td>\n",
       "      <td>0</td>\n",
       "      <td>0</td>\n",
       "      <td>0</td>\n",
       "      <td>0</td>\n",
       "      <td>1</td>\n",
       "    </tr>\n",
       "    <tr>\n",
       "      <th>1</th>\n",
       "      <td>309891</td>\n",
       "      <td>3005</td>\n",
       "      <td>351</td>\n",
       "      <td>14</td>\n",
       "      <td>242</td>\n",
       "      <td>-16</td>\n",
       "      <td>1371</td>\n",
       "      <td>194</td>\n",
       "      <td>215</td>\n",
       "      <td>159</td>\n",
       "      <td>842</td>\n",
       "      <td>0</td>\n",
       "      <td>0</td>\n",
       "      <td>1</td>\n",
       "      <td>0</td>\n",
       "      <td>0</td>\n",
       "      <td>0</td>\n",
       "      <td>0</td>\n",
       "      <td>0</td>\n",
       "      <td>0</td>\n",
       "      <td>0</td>\n",
       "      <td>0</td>\n",
       "      <td>0</td>\n",
       "      <td>0</td>\n",
       "      <td>0</td>\n",
       "      <td>0</td>\n",
       "      <td>0</td>\n",
       "      <td>0</td>\n",
       "      <td>0</td>\n",
       "      <td>0</td>\n",
       "      <td>0</td>\n",
       "      <td>0</td>\n",
       "      <td>0</td>\n",
       "      <td>0</td>\n",
       "      <td>0</td>\n",
       "      <td>0</td>\n",
       "      <td>0</td>\n",
       "      <td>0</td>\n",
       "      <td>1</td>\n",
       "      <td>0</td>\n",
       "      <td>0</td>\n",
       "      <td>0</td>\n",
       "      <td>0</td>\n",
       "      <td>0</td>\n",
       "      <td>0</td>\n",
       "      <td>0</td>\n",
       "      <td>0</td>\n",
       "      <td>0</td>\n",
       "      <td>0</td>\n",
       "      <td>0</td>\n",
       "      <td>0</td>\n",
       "      <td>0</td>\n",
       "      <td>0</td>\n",
       "      <td>0</td>\n",
       "      <td>0</td>\n",
       "      <td>1</td>\n",
       "    </tr>\n",
       "    <tr>\n",
       "      <th>2</th>\n",
       "      <td>287847</td>\n",
       "      <td>3226</td>\n",
       "      <td>63</td>\n",
       "      <td>14</td>\n",
       "      <td>618</td>\n",
       "      <td>2</td>\n",
       "      <td>1092</td>\n",
       "      <td>232</td>\n",
       "      <td>210</td>\n",
       "      <td>107</td>\n",
       "      <td>2018</td>\n",
       "      <td>1</td>\n",
       "      <td>0</td>\n",
       "      <td>0</td>\n",
       "      <td>0</td>\n",
       "      <td>0</td>\n",
       "      <td>0</td>\n",
       "      <td>0</td>\n",
       "      <td>0</td>\n",
       "      <td>0</td>\n",
       "      <td>0</td>\n",
       "      <td>0</td>\n",
       "      <td>0</td>\n",
       "      <td>0</td>\n",
       "      <td>0</td>\n",
       "      <td>0</td>\n",
       "      <td>0</td>\n",
       "      <td>0</td>\n",
       "      <td>0</td>\n",
       "      <td>0</td>\n",
       "      <td>0</td>\n",
       "      <td>0</td>\n",
       "      <td>0</td>\n",
       "      <td>0</td>\n",
       "      <td>0</td>\n",
       "      <td>0</td>\n",
       "      <td>0</td>\n",
       "      <td>0</td>\n",
       "      <td>0</td>\n",
       "      <td>0</td>\n",
       "      <td>0</td>\n",
       "      <td>0</td>\n",
       "      <td>0</td>\n",
       "      <td>1</td>\n",
       "      <td>0</td>\n",
       "      <td>0</td>\n",
       "      <td>0</td>\n",
       "      <td>0</td>\n",
       "      <td>0</td>\n",
       "      <td>0</td>\n",
       "      <td>0</td>\n",
       "      <td>0</td>\n",
       "      <td>0</td>\n",
       "      <td>0</td>\n",
       "      <td>0</td>\n",
       "      <td>1</td>\n",
       "    </tr>\n",
       "    <tr>\n",
       "      <th>3</th>\n",
       "      <td>516307</td>\n",
       "      <td>3298</td>\n",
       "      <td>317</td>\n",
       "      <td>8</td>\n",
       "      <td>661</td>\n",
       "      <td>60</td>\n",
       "      <td>752</td>\n",
       "      <td>198</td>\n",
       "      <td>233</td>\n",
       "      <td>174</td>\n",
       "      <td>1248</td>\n",
       "      <td>0</td>\n",
       "      <td>1</td>\n",
       "      <td>0</td>\n",
       "      <td>0</td>\n",
       "      <td>0</td>\n",
       "      <td>0</td>\n",
       "      <td>0</td>\n",
       "      <td>0</td>\n",
       "      <td>0</td>\n",
       "      <td>0</td>\n",
       "      <td>0</td>\n",
       "      <td>0</td>\n",
       "      <td>0</td>\n",
       "      <td>0</td>\n",
       "      <td>0</td>\n",
       "      <td>0</td>\n",
       "      <td>0</td>\n",
       "      <td>0</td>\n",
       "      <td>0</td>\n",
       "      <td>0</td>\n",
       "      <td>0</td>\n",
       "      <td>0</td>\n",
       "      <td>0</td>\n",
       "      <td>0</td>\n",
       "      <td>0</td>\n",
       "      <td>0</td>\n",
       "      <td>1</td>\n",
       "      <td>0</td>\n",
       "      <td>0</td>\n",
       "      <td>0</td>\n",
       "      <td>0</td>\n",
       "      <td>0</td>\n",
       "      <td>0</td>\n",
       "      <td>0</td>\n",
       "      <td>0</td>\n",
       "      <td>0</td>\n",
       "      <td>0</td>\n",
       "      <td>0</td>\n",
       "      <td>0</td>\n",
       "      <td>0</td>\n",
       "      <td>0</td>\n",
       "      <td>0</td>\n",
       "      <td>0</td>\n",
       "      <td>0</td>\n",
       "      <td>1</td>\n",
       "    </tr>\n",
       "    <tr>\n",
       "      <th>4</th>\n",
       "      <td>124860</td>\n",
       "      <td>3080</td>\n",
       "      <td>35</td>\n",
       "      <td>6</td>\n",
       "      <td>175</td>\n",
       "      <td>26</td>\n",
       "      <td>3705</td>\n",
       "      <td>219</td>\n",
       "      <td>227</td>\n",
       "      <td>144</td>\n",
       "      <td>2673</td>\n",
       "      <td>1</td>\n",
       "      <td>0</td>\n",
       "      <td>0</td>\n",
       "      <td>0</td>\n",
       "      <td>0</td>\n",
       "      <td>0</td>\n",
       "      <td>0</td>\n",
       "      <td>0</td>\n",
       "      <td>0</td>\n",
       "      <td>0</td>\n",
       "      <td>0</td>\n",
       "      <td>0</td>\n",
       "      <td>0</td>\n",
       "      <td>0</td>\n",
       "      <td>0</td>\n",
       "      <td>0</td>\n",
       "      <td>0</td>\n",
       "      <td>0</td>\n",
       "      <td>0</td>\n",
       "      <td>0</td>\n",
       "      <td>0</td>\n",
       "      <td>0</td>\n",
       "      <td>0</td>\n",
       "      <td>0</td>\n",
       "      <td>0</td>\n",
       "      <td>0</td>\n",
       "      <td>0</td>\n",
       "      <td>1</td>\n",
       "      <td>0</td>\n",
       "      <td>0</td>\n",
       "      <td>0</td>\n",
       "      <td>0</td>\n",
       "      <td>0</td>\n",
       "      <td>0</td>\n",
       "      <td>0</td>\n",
       "      <td>0</td>\n",
       "      <td>0</td>\n",
       "      <td>0</td>\n",
       "      <td>0</td>\n",
       "      <td>0</td>\n",
       "      <td>0</td>\n",
       "      <td>0</td>\n",
       "      <td>0</td>\n",
       "      <td>0</td>\n",
       "      <td>1</td>\n",
       "    </tr>\n",
       "  </tbody>\n",
       "</table>\n",
       "</div>"
      ],
      "text/plain": [
       "       Id  Elevation  Aspect  Slope  Horizontal_Distance_To_Hydrology  \\\n",
       "0  242642       2881     130     22                               210   \n",
       "1  309891       3005     351     14                               242   \n",
       "2  287847       3226      63     14                               618   \n",
       "3  516307       3298     317      8                               661   \n",
       "4  124860       3080      35      6                               175   \n",
       "\n",
       "   Vertical_Distance_To_Hydrology  Horizontal_Distance_To_Roadways  \\\n",
       "0                              54                             1020   \n",
       "1                             -16                             1371   \n",
       "2                               2                             1092   \n",
       "3                              60                              752   \n",
       "4                              26                             3705   \n",
       "\n",
       "   Hillshade_9am  Hillshade_Noon  Hillshade_3pm  \\\n",
       "0            250             221             88   \n",
       "1            194             215            159   \n",
       "2            232             210            107   \n",
       "3            198             233            174   \n",
       "4            219             227            144   \n",
       "\n",
       "   Horizontal_Distance_To_Fire_Points  Wilderness_Area1  Wilderness_Area2  \\\n",
       "0                                 342                 1                 0   \n",
       "1                                 842                 0                 0   \n",
       "2                                2018                 1                 0   \n",
       "3                                1248                 0                 1   \n",
       "4                                2673                 1                 0   \n",
       "\n",
       "   Wilderness_Area3  Wilderness_Area4  Soil_Type1  Soil_Type2  Soil_Type3  \\\n",
       "0                 0                 0           0           0           0   \n",
       "1                 1                 0           0           0           0   \n",
       "2                 0                 0           0           0           0   \n",
       "3                 0                 0           0           0           0   \n",
       "4                 0                 0           0           0           0   \n",
       "\n",
       "   Soil_Type4  Soil_Type5  Soil_Type6  Soil_Type7  Soil_Type8  Soil_Type9  \\\n",
       "0           0           0           0           0           0           0   \n",
       "1           0           0           0           0           0           0   \n",
       "2           0           0           0           0           0           0   \n",
       "3           0           0           0           0           0           0   \n",
       "4           0           0           0           0           0           0   \n",
       "\n",
       "   Soil_Type10  Soil_Type11  Soil_Type12  Soil_Type13  Soil_Type14  \\\n",
       "0            0            0            0            0            0   \n",
       "1            0            0            0            0            0   \n",
       "2            0            0            0            0            0   \n",
       "3            0            0            0            0            0   \n",
       "4            0            0            0            0            0   \n",
       "\n",
       "   Soil_Type15  Soil_Type16  Soil_Type17  Soil_Type18  Soil_Type19  \\\n",
       "0            0            0            0            0            0   \n",
       "1            0            0            0            0            0   \n",
       "2            0            0            0            0            0   \n",
       "3            0            0            0            0            0   \n",
       "4            0            0            0            0            0   \n",
       "\n",
       "   Soil_Type20  Soil_Type21  Soil_Type22  Soil_Type23  Soil_Type24  \\\n",
       "0            0            0            0            0            0   \n",
       "1            0            0            0            0            1   \n",
       "2            0            0            0            0            0   \n",
       "3            0            0            0            1            0   \n",
       "4            0            0            0            0            1   \n",
       "\n",
       "   Soil_Type25  Soil_Type26  Soil_Type27  Soil_Type28  Soil_Type29  \\\n",
       "0            0            0            0            0            0   \n",
       "1            0            0            0            0            0   \n",
       "2            0            0            0            0            1   \n",
       "3            0            0            0            0            0   \n",
       "4            0            0            0            0            0   \n",
       "\n",
       "   Soil_Type30  Soil_Type31  Soil_Type32  Soil_Type33  Soil_Type34  \\\n",
       "0            1            0            0            0            0   \n",
       "1            0            0            0            0            0   \n",
       "2            0            0            0            0            0   \n",
       "3            0            0            0            0            0   \n",
       "4            0            0            0            0            0   \n",
       "\n",
       "   Soil_Type35  Soil_Type36  Soil_Type37  Soil_Type38  Soil_Type39  \\\n",
       "0            0            0            0            0            0   \n",
       "1            0            0            0            0            0   \n",
       "2            0            0            0            0            0   \n",
       "3            0            0            0            0            0   \n",
       "4            0            0            0            0            0   \n",
       "\n",
       "   Soil_Type40  Cover_Type  \n",
       "0            0           1  \n",
       "1            0           1  \n",
       "2            0           1  \n",
       "3            0           1  \n",
       "4            0           1  "
      ]
     },
     "execution_count": 5,
     "metadata": {},
     "output_type": "execute_result"
    }
   ],
   "source": [
    "train_data.head()"
   ]
  },
  {
   "cell_type": "markdown",
   "metadata": {},
   "source": [
    "There is no missing values and all the features are numeric. \n",
    "\n",
    "-> We will have a look on the description of our dataset."
   ]
  },
  {
   "cell_type": "code",
   "execution_count": 6,
   "metadata": {},
   "outputs": [
    {
     "data": {
      "text/html": [
       "<div>\n",
       "<style scoped>\n",
       "    .dataframe tbody tr th:only-of-type {\n",
       "        vertical-align: middle;\n",
       "    }\n",
       "\n",
       "    .dataframe tbody tr th {\n",
       "        vertical-align: top;\n",
       "    }\n",
       "\n",
       "    .dataframe thead th {\n",
       "        text-align: right;\n",
       "    }\n",
       "</style>\n",
       "<table border=\"1\" class=\"dataframe\">\n",
       "  <thead>\n",
       "    <tr style=\"text-align: right;\">\n",
       "      <th></th>\n",
       "      <th>Id</th>\n",
       "      <th>Elevation</th>\n",
       "      <th>Aspect</th>\n",
       "      <th>Slope</th>\n",
       "      <th>Horizontal_Distance_To_Hydrology</th>\n",
       "      <th>Vertical_Distance_To_Hydrology</th>\n",
       "      <th>Horizontal_Distance_To_Roadways</th>\n",
       "      <th>Hillshade_9am</th>\n",
       "      <th>Hillshade_Noon</th>\n",
       "      <th>Hillshade_3pm</th>\n",
       "      <th>Horizontal_Distance_To_Fire_Points</th>\n",
       "      <th>Wilderness_Area1</th>\n",
       "      <th>Wilderness_Area2</th>\n",
       "      <th>Wilderness_Area3</th>\n",
       "      <th>Wilderness_Area4</th>\n",
       "      <th>Soil_Type1</th>\n",
       "      <th>Soil_Type2</th>\n",
       "      <th>Soil_Type3</th>\n",
       "      <th>Soil_Type4</th>\n",
       "      <th>Soil_Type5</th>\n",
       "      <th>Soil_Type6</th>\n",
       "      <th>Soil_Type7</th>\n",
       "      <th>Soil_Type8</th>\n",
       "      <th>Soil_Type9</th>\n",
       "      <th>Soil_Type10</th>\n",
       "      <th>Soil_Type11</th>\n",
       "      <th>Soil_Type12</th>\n",
       "      <th>Soil_Type13</th>\n",
       "      <th>Soil_Type14</th>\n",
       "      <th>Soil_Type15</th>\n",
       "      <th>Soil_Type16</th>\n",
       "      <th>Soil_Type17</th>\n",
       "      <th>Soil_Type18</th>\n",
       "      <th>Soil_Type19</th>\n",
       "      <th>Soil_Type20</th>\n",
       "      <th>Soil_Type21</th>\n",
       "      <th>Soil_Type22</th>\n",
       "      <th>Soil_Type23</th>\n",
       "      <th>Soil_Type24</th>\n",
       "      <th>Soil_Type25</th>\n",
       "      <th>Soil_Type26</th>\n",
       "      <th>Soil_Type27</th>\n",
       "      <th>Soil_Type28</th>\n",
       "      <th>Soil_Type29</th>\n",
       "      <th>Soil_Type30</th>\n",
       "      <th>Soil_Type31</th>\n",
       "      <th>Soil_Type32</th>\n",
       "      <th>Soil_Type33</th>\n",
       "      <th>Soil_Type34</th>\n",
       "      <th>Soil_Type35</th>\n",
       "      <th>Soil_Type36</th>\n",
       "      <th>Soil_Type37</th>\n",
       "      <th>Soil_Type38</th>\n",
       "      <th>Soil_Type39</th>\n",
       "      <th>Soil_Type40</th>\n",
       "      <th>Cover_Type</th>\n",
       "    </tr>\n",
       "  </thead>\n",
       "  <tbody>\n",
       "    <tr>\n",
       "      <th>count</th>\n",
       "      <td>15120.00</td>\n",
       "      <td>15120.00</td>\n",
       "      <td>15120.00</td>\n",
       "      <td>15120.00</td>\n",
       "      <td>15120.00</td>\n",
       "      <td>15120.00</td>\n",
       "      <td>15120.00</td>\n",
       "      <td>15120.00</td>\n",
       "      <td>15120.00</td>\n",
       "      <td>15120.00</td>\n",
       "      <td>15120.00</td>\n",
       "      <td>15120.00</td>\n",
       "      <td>15120.00</td>\n",
       "      <td>15120.00</td>\n",
       "      <td>15120.00</td>\n",
       "      <td>15120.00</td>\n",
       "      <td>15120.00</td>\n",
       "      <td>15120.00</td>\n",
       "      <td>15120.00</td>\n",
       "      <td>15120.00</td>\n",
       "      <td>15120.00</td>\n",
       "      <td>15120.00</td>\n",
       "      <td>15120.00</td>\n",
       "      <td>15120.00</td>\n",
       "      <td>15120.00</td>\n",
       "      <td>15120.00</td>\n",
       "      <td>15120.00</td>\n",
       "      <td>15120.00</td>\n",
       "      <td>15120.00</td>\n",
       "      <td>15120.00</td>\n",
       "      <td>15120.00</td>\n",
       "      <td>15120.00</td>\n",
       "      <td>15120.00</td>\n",
       "      <td>15120.00</td>\n",
       "      <td>15120.00</td>\n",
       "      <td>15120.00</td>\n",
       "      <td>15120.00</td>\n",
       "      <td>15120.00</td>\n",
       "      <td>15120.00</td>\n",
       "      <td>15120.00</td>\n",
       "      <td>15120.00</td>\n",
       "      <td>15120.00</td>\n",
       "      <td>15120.00</td>\n",
       "      <td>15120.00</td>\n",
       "      <td>15120.00</td>\n",
       "      <td>15120.00</td>\n",
       "      <td>15120.00</td>\n",
       "      <td>15120.00</td>\n",
       "      <td>15120.00</td>\n",
       "      <td>15120.00</td>\n",
       "      <td>15120.00</td>\n",
       "      <td>15120.00</td>\n",
       "      <td>15120.00</td>\n",
       "      <td>15120.00</td>\n",
       "      <td>15120.00</td>\n",
       "      <td>15120.00</td>\n",
       "    </tr>\n",
       "    <tr>\n",
       "      <th>mean</th>\n",
       "      <td>267008.53</td>\n",
       "      <td>2748.65</td>\n",
       "      <td>155.83</td>\n",
       "      <td>16.56</td>\n",
       "      <td>228.38</td>\n",
       "      <td>51.31</td>\n",
       "      <td>1717.98</td>\n",
       "      <td>213.03</td>\n",
       "      <td>218.87</td>\n",
       "      <td>134.48</td>\n",
       "      <td>1527.36</td>\n",
       "      <td>0.24</td>\n",
       "      <td>0.04</td>\n",
       "      <td>0.42</td>\n",
       "      <td>0.31</td>\n",
       "      <td>0.02</td>\n",
       "      <td>0.04</td>\n",
       "      <td>0.07</td>\n",
       "      <td>0.06</td>\n",
       "      <td>0.01</td>\n",
       "      <td>0.04</td>\n",
       "      <td>0.00</td>\n",
       "      <td>0.00</td>\n",
       "      <td>0.00</td>\n",
       "      <td>0.14</td>\n",
       "      <td>0.02</td>\n",
       "      <td>0.02</td>\n",
       "      <td>0.03</td>\n",
       "      <td>0.01</td>\n",
       "      <td>0.00</td>\n",
       "      <td>0.01</td>\n",
       "      <td>0.04</td>\n",
       "      <td>0.00</td>\n",
       "      <td>0.00</td>\n",
       "      <td>0.01</td>\n",
       "      <td>0.00</td>\n",
       "      <td>0.02</td>\n",
       "      <td>0.05</td>\n",
       "      <td>0.02</td>\n",
       "      <td>0.00</td>\n",
       "      <td>0.00</td>\n",
       "      <td>0.00</td>\n",
       "      <td>0.00</td>\n",
       "      <td>0.09</td>\n",
       "      <td>0.05</td>\n",
       "      <td>0.02</td>\n",
       "      <td>0.04</td>\n",
       "      <td>0.04</td>\n",
       "      <td>0.00</td>\n",
       "      <td>0.01</td>\n",
       "      <td>0.00</td>\n",
       "      <td>0.00</td>\n",
       "      <td>0.05</td>\n",
       "      <td>0.04</td>\n",
       "      <td>0.03</td>\n",
       "      <td>4.00</td>\n",
       "    </tr>\n",
       "    <tr>\n",
       "      <th>std</th>\n",
       "      <td>179261.72</td>\n",
       "      <td>419.01</td>\n",
       "      <td>109.75</td>\n",
       "      <td>8.53</td>\n",
       "      <td>209.20</td>\n",
       "      <td>61.52</td>\n",
       "      <td>1330.26</td>\n",
       "      <td>30.64</td>\n",
       "      <td>22.80</td>\n",
       "      <td>46.07</td>\n",
       "      <td>1116.64</td>\n",
       "      <td>0.42</td>\n",
       "      <td>0.19</td>\n",
       "      <td>0.49</td>\n",
       "      <td>0.46</td>\n",
       "      <td>0.15</td>\n",
       "      <td>0.20</td>\n",
       "      <td>0.25</td>\n",
       "      <td>0.23</td>\n",
       "      <td>0.11</td>\n",
       "      <td>0.21</td>\n",
       "      <td>0.01</td>\n",
       "      <td>0.01</td>\n",
       "      <td>0.02</td>\n",
       "      <td>0.35</td>\n",
       "      <td>0.16</td>\n",
       "      <td>0.13</td>\n",
       "      <td>0.18</td>\n",
       "      <td>0.11</td>\n",
       "      <td>0.00</td>\n",
       "      <td>0.08</td>\n",
       "      <td>0.20</td>\n",
       "      <td>0.05</td>\n",
       "      <td>0.06</td>\n",
       "      <td>0.09</td>\n",
       "      <td>0.03</td>\n",
       "      <td>0.15</td>\n",
       "      <td>0.22</td>\n",
       "      <td>0.13</td>\n",
       "      <td>0.02</td>\n",
       "      <td>0.06</td>\n",
       "      <td>0.02</td>\n",
       "      <td>0.02</td>\n",
       "      <td>0.28</td>\n",
       "      <td>0.22</td>\n",
       "      <td>0.14</td>\n",
       "      <td>0.20</td>\n",
       "      <td>0.20</td>\n",
       "      <td>0.03</td>\n",
       "      <td>0.08</td>\n",
       "      <td>0.03</td>\n",
       "      <td>0.05</td>\n",
       "      <td>0.22</td>\n",
       "      <td>0.20</td>\n",
       "      <td>0.17</td>\n",
       "      <td>2.00</td>\n",
       "    </tr>\n",
       "    <tr>\n",
       "      <th>min</th>\n",
       "      <td>5.00</td>\n",
       "      <td>1877.00</td>\n",
       "      <td>0.00</td>\n",
       "      <td>0.00</td>\n",
       "      <td>0.00</td>\n",
       "      <td>-135.00</td>\n",
       "      <td>0.00</td>\n",
       "      <td>52.00</td>\n",
       "      <td>99.00</td>\n",
       "      <td>0.00</td>\n",
       "      <td>0.00</td>\n",
       "      <td>0.00</td>\n",
       "      <td>0.00</td>\n",
       "      <td>0.00</td>\n",
       "      <td>0.00</td>\n",
       "      <td>0.00</td>\n",
       "      <td>0.00</td>\n",
       "      <td>0.00</td>\n",
       "      <td>0.00</td>\n",
       "      <td>0.00</td>\n",
       "      <td>0.00</td>\n",
       "      <td>0.00</td>\n",
       "      <td>0.00</td>\n",
       "      <td>0.00</td>\n",
       "      <td>0.00</td>\n",
       "      <td>0.00</td>\n",
       "      <td>0.00</td>\n",
       "      <td>0.00</td>\n",
       "      <td>0.00</td>\n",
       "      <td>0.00</td>\n",
       "      <td>0.00</td>\n",
       "      <td>0.00</td>\n",
       "      <td>0.00</td>\n",
       "      <td>0.00</td>\n",
       "      <td>0.00</td>\n",
       "      <td>0.00</td>\n",
       "      <td>0.00</td>\n",
       "      <td>0.00</td>\n",
       "      <td>0.00</td>\n",
       "      <td>0.00</td>\n",
       "      <td>0.00</td>\n",
       "      <td>0.00</td>\n",
       "      <td>0.00</td>\n",
       "      <td>0.00</td>\n",
       "      <td>0.00</td>\n",
       "      <td>0.00</td>\n",
       "      <td>0.00</td>\n",
       "      <td>0.00</td>\n",
       "      <td>0.00</td>\n",
       "      <td>0.00</td>\n",
       "      <td>0.00</td>\n",
       "      <td>0.00</td>\n",
       "      <td>0.00</td>\n",
       "      <td>0.00</td>\n",
       "      <td>0.00</td>\n",
       "      <td>1.00</td>\n",
       "    </tr>\n",
       "    <tr>\n",
       "      <th>25%</th>\n",
       "      <td>103705.00</td>\n",
       "      <td>2373.00</td>\n",
       "      <td>65.00</td>\n",
       "      <td>10.00</td>\n",
       "      <td>67.00</td>\n",
       "      <td>5.00</td>\n",
       "      <td>760.00</td>\n",
       "      <td>197.00</td>\n",
       "      <td>207.00</td>\n",
       "      <td>106.00</td>\n",
       "      <td>750.00</td>\n",
       "      <td>0.00</td>\n",
       "      <td>0.00</td>\n",
       "      <td>0.00</td>\n",
       "      <td>0.00</td>\n",
       "      <td>0.00</td>\n",
       "      <td>0.00</td>\n",
       "      <td>0.00</td>\n",
       "      <td>0.00</td>\n",
       "      <td>0.00</td>\n",
       "      <td>0.00</td>\n",
       "      <td>0.00</td>\n",
       "      <td>0.00</td>\n",
       "      <td>0.00</td>\n",
       "      <td>0.00</td>\n",
       "      <td>0.00</td>\n",
       "      <td>0.00</td>\n",
       "      <td>0.00</td>\n",
       "      <td>0.00</td>\n",
       "      <td>0.00</td>\n",
       "      <td>0.00</td>\n",
       "      <td>0.00</td>\n",
       "      <td>0.00</td>\n",
       "      <td>0.00</td>\n",
       "      <td>0.00</td>\n",
       "      <td>0.00</td>\n",
       "      <td>0.00</td>\n",
       "      <td>0.00</td>\n",
       "      <td>0.00</td>\n",
       "      <td>0.00</td>\n",
       "      <td>0.00</td>\n",
       "      <td>0.00</td>\n",
       "      <td>0.00</td>\n",
       "      <td>0.00</td>\n",
       "      <td>0.00</td>\n",
       "      <td>0.00</td>\n",
       "      <td>0.00</td>\n",
       "      <td>0.00</td>\n",
       "      <td>0.00</td>\n",
       "      <td>0.00</td>\n",
       "      <td>0.00</td>\n",
       "      <td>0.00</td>\n",
       "      <td>0.00</td>\n",
       "      <td>0.00</td>\n",
       "      <td>0.00</td>\n",
       "      <td>2.00</td>\n",
       "    </tr>\n",
       "    <tr>\n",
       "      <th>50%</th>\n",
       "      <td>276034.50</td>\n",
       "      <td>2754.00</td>\n",
       "      <td>125.00</td>\n",
       "      <td>15.00</td>\n",
       "      <td>180.00</td>\n",
       "      <td>32.00</td>\n",
       "      <td>1315.00</td>\n",
       "      <td>220.00</td>\n",
       "      <td>223.00</td>\n",
       "      <td>138.00</td>\n",
       "      <td>1266.00</td>\n",
       "      <td>0.00</td>\n",
       "      <td>0.00</td>\n",
       "      <td>0.00</td>\n",
       "      <td>0.00</td>\n",
       "      <td>0.00</td>\n",
       "      <td>0.00</td>\n",
       "      <td>0.00</td>\n",
       "      <td>0.00</td>\n",
       "      <td>0.00</td>\n",
       "      <td>0.00</td>\n",
       "      <td>0.00</td>\n",
       "      <td>0.00</td>\n",
       "      <td>0.00</td>\n",
       "      <td>0.00</td>\n",
       "      <td>0.00</td>\n",
       "      <td>0.00</td>\n",
       "      <td>0.00</td>\n",
       "      <td>0.00</td>\n",
       "      <td>0.00</td>\n",
       "      <td>0.00</td>\n",
       "      <td>0.00</td>\n",
       "      <td>0.00</td>\n",
       "      <td>0.00</td>\n",
       "      <td>0.00</td>\n",
       "      <td>0.00</td>\n",
       "      <td>0.00</td>\n",
       "      <td>0.00</td>\n",
       "      <td>0.00</td>\n",
       "      <td>0.00</td>\n",
       "      <td>0.00</td>\n",
       "      <td>0.00</td>\n",
       "      <td>0.00</td>\n",
       "      <td>0.00</td>\n",
       "      <td>0.00</td>\n",
       "      <td>0.00</td>\n",
       "      <td>0.00</td>\n",
       "      <td>0.00</td>\n",
       "      <td>0.00</td>\n",
       "      <td>0.00</td>\n",
       "      <td>0.00</td>\n",
       "      <td>0.00</td>\n",
       "      <td>0.00</td>\n",
       "      <td>0.00</td>\n",
       "      <td>0.00</td>\n",
       "      <td>4.00</td>\n",
       "    </tr>\n",
       "    <tr>\n",
       "      <th>75%</th>\n",
       "      <td>398150.25</td>\n",
       "      <td>3109.00</td>\n",
       "      <td>257.00</td>\n",
       "      <td>22.00</td>\n",
       "      <td>330.00</td>\n",
       "      <td>80.00</td>\n",
       "      <td>2292.00</td>\n",
       "      <td>236.00</td>\n",
       "      <td>235.00</td>\n",
       "      <td>166.00</td>\n",
       "      <td>2002.00</td>\n",
       "      <td>0.00</td>\n",
       "      <td>0.00</td>\n",
       "      <td>1.00</td>\n",
       "      <td>1.00</td>\n",
       "      <td>0.00</td>\n",
       "      <td>0.00</td>\n",
       "      <td>0.00</td>\n",
       "      <td>0.00</td>\n",
       "      <td>0.00</td>\n",
       "      <td>0.00</td>\n",
       "      <td>0.00</td>\n",
       "      <td>0.00</td>\n",
       "      <td>0.00</td>\n",
       "      <td>0.00</td>\n",
       "      <td>0.00</td>\n",
       "      <td>0.00</td>\n",
       "      <td>0.00</td>\n",
       "      <td>0.00</td>\n",
       "      <td>0.00</td>\n",
       "      <td>0.00</td>\n",
       "      <td>0.00</td>\n",
       "      <td>0.00</td>\n",
       "      <td>0.00</td>\n",
       "      <td>0.00</td>\n",
       "      <td>0.00</td>\n",
       "      <td>0.00</td>\n",
       "      <td>0.00</td>\n",
       "      <td>0.00</td>\n",
       "      <td>0.00</td>\n",
       "      <td>0.00</td>\n",
       "      <td>0.00</td>\n",
       "      <td>0.00</td>\n",
       "      <td>0.00</td>\n",
       "      <td>0.00</td>\n",
       "      <td>0.00</td>\n",
       "      <td>0.00</td>\n",
       "      <td>0.00</td>\n",
       "      <td>0.00</td>\n",
       "      <td>0.00</td>\n",
       "      <td>0.00</td>\n",
       "      <td>0.00</td>\n",
       "      <td>0.00</td>\n",
       "      <td>0.00</td>\n",
       "      <td>0.00</td>\n",
       "      <td>6.00</td>\n",
       "    </tr>\n",
       "    <tr>\n",
       "      <th>max</th>\n",
       "      <td>581005.00</td>\n",
       "      <td>3850.00</td>\n",
       "      <td>360.00</td>\n",
       "      <td>50.00</td>\n",
       "      <td>1376.00</td>\n",
       "      <td>570.00</td>\n",
       "      <td>6803.00</td>\n",
       "      <td>254.00</td>\n",
       "      <td>254.00</td>\n",
       "      <td>251.00</td>\n",
       "      <td>7095.00</td>\n",
       "      <td>1.00</td>\n",
       "      <td>1.00</td>\n",
       "      <td>1.00</td>\n",
       "      <td>1.00</td>\n",
       "      <td>1.00</td>\n",
       "      <td>1.00</td>\n",
       "      <td>1.00</td>\n",
       "      <td>1.00</td>\n",
       "      <td>1.00</td>\n",
       "      <td>1.00</td>\n",
       "      <td>1.00</td>\n",
       "      <td>1.00</td>\n",
       "      <td>1.00</td>\n",
       "      <td>1.00</td>\n",
       "      <td>1.00</td>\n",
       "      <td>1.00</td>\n",
       "      <td>1.00</td>\n",
       "      <td>1.00</td>\n",
       "      <td>0.00</td>\n",
       "      <td>1.00</td>\n",
       "      <td>1.00</td>\n",
       "      <td>1.00</td>\n",
       "      <td>1.00</td>\n",
       "      <td>1.00</td>\n",
       "      <td>1.00</td>\n",
       "      <td>1.00</td>\n",
       "      <td>1.00</td>\n",
       "      <td>1.00</td>\n",
       "      <td>1.00</td>\n",
       "      <td>1.00</td>\n",
       "      <td>1.00</td>\n",
       "      <td>1.00</td>\n",
       "      <td>1.00</td>\n",
       "      <td>1.00</td>\n",
       "      <td>1.00</td>\n",
       "      <td>1.00</td>\n",
       "      <td>1.00</td>\n",
       "      <td>1.00</td>\n",
       "      <td>1.00</td>\n",
       "      <td>1.00</td>\n",
       "      <td>1.00</td>\n",
       "      <td>1.00</td>\n",
       "      <td>1.00</td>\n",
       "      <td>1.00</td>\n",
       "      <td>7.00</td>\n",
       "    </tr>\n",
       "  </tbody>\n",
       "</table>\n",
       "</div>"
      ],
      "text/plain": [
       "             Id  Elevation   Aspect    Slope  \\\n",
       "count  15120.00   15120.00 15120.00 15120.00   \n",
       "mean  267008.53    2748.65   155.83    16.56   \n",
       "std   179261.72     419.01   109.75     8.53   \n",
       "min        5.00    1877.00     0.00     0.00   \n",
       "25%   103705.00    2373.00    65.00    10.00   \n",
       "50%   276034.50    2754.00   125.00    15.00   \n",
       "75%   398150.25    3109.00   257.00    22.00   \n",
       "max   581005.00    3850.00   360.00    50.00   \n",
       "\n",
       "       Horizontal_Distance_To_Hydrology  Vertical_Distance_To_Hydrology  \\\n",
       "count                          15120.00                        15120.00   \n",
       "mean                             228.38                           51.31   \n",
       "std                              209.20                           61.52   \n",
       "min                                0.00                         -135.00   \n",
       "25%                               67.00                            5.00   \n",
       "50%                              180.00                           32.00   \n",
       "75%                              330.00                           80.00   \n",
       "max                             1376.00                          570.00   \n",
       "\n",
       "       Horizontal_Distance_To_Roadways  Hillshade_9am  Hillshade_Noon  \\\n",
       "count                         15120.00       15120.00        15120.00   \n",
       "mean                           1717.98         213.03          218.87   \n",
       "std                            1330.26          30.64           22.80   \n",
       "min                               0.00          52.00           99.00   \n",
       "25%                             760.00         197.00          207.00   \n",
       "50%                            1315.00         220.00          223.00   \n",
       "75%                            2292.00         236.00          235.00   \n",
       "max                            6803.00         254.00          254.00   \n",
       "\n",
       "       Hillshade_3pm  Horizontal_Distance_To_Fire_Points  Wilderness_Area1  \\\n",
       "count       15120.00                            15120.00          15120.00   \n",
       "mean          134.48                             1527.36              0.24   \n",
       "std            46.07                             1116.64              0.42   \n",
       "min             0.00                                0.00              0.00   \n",
       "25%           106.00                              750.00              0.00   \n",
       "50%           138.00                             1266.00              0.00   \n",
       "75%           166.00                             2002.00              0.00   \n",
       "max           251.00                             7095.00              1.00   \n",
       "\n",
       "       Wilderness_Area2  Wilderness_Area3  Wilderness_Area4  Soil_Type1  \\\n",
       "count          15120.00          15120.00          15120.00    15120.00   \n",
       "mean               0.04              0.42              0.31        0.02   \n",
       "std                0.19              0.49              0.46        0.15   \n",
       "min                0.00              0.00              0.00        0.00   \n",
       "25%                0.00              0.00              0.00        0.00   \n",
       "50%                0.00              0.00              0.00        0.00   \n",
       "75%                0.00              1.00              1.00        0.00   \n",
       "max                1.00              1.00              1.00        1.00   \n",
       "\n",
       "       Soil_Type2  Soil_Type3  Soil_Type4  Soil_Type5  Soil_Type6  Soil_Type7  \\\n",
       "count    15120.00    15120.00    15120.00    15120.00    15120.00    15120.00   \n",
       "mean         0.04        0.07        0.06        0.01        0.04        0.00   \n",
       "std          0.20        0.25        0.23        0.11        0.21        0.01   \n",
       "min          0.00        0.00        0.00        0.00        0.00        0.00   \n",
       "25%          0.00        0.00        0.00        0.00        0.00        0.00   \n",
       "50%          0.00        0.00        0.00        0.00        0.00        0.00   \n",
       "75%          0.00        0.00        0.00        0.00        0.00        0.00   \n",
       "max          1.00        1.00        1.00        1.00        1.00        1.00   \n",
       "\n",
       "       Soil_Type8  Soil_Type9  Soil_Type10  Soil_Type11  Soil_Type12  \\\n",
       "count    15120.00    15120.00     15120.00     15120.00     15120.00   \n",
       "mean         0.00        0.00         0.14         0.02         0.02   \n",
       "std          0.01        0.02         0.35         0.16         0.13   \n",
       "min          0.00        0.00         0.00         0.00         0.00   \n",
       "25%          0.00        0.00         0.00         0.00         0.00   \n",
       "50%          0.00        0.00         0.00         0.00         0.00   \n",
       "75%          0.00        0.00         0.00         0.00         0.00   \n",
       "max          1.00        1.00         1.00         1.00         1.00   \n",
       "\n",
       "       Soil_Type13  Soil_Type14  Soil_Type15  Soil_Type16  Soil_Type17  \\\n",
       "count     15120.00     15120.00     15120.00     15120.00     15120.00   \n",
       "mean          0.03         0.01         0.00         0.01         0.04   \n",
       "std           0.18         0.11         0.00         0.08         0.20   \n",
       "min           0.00         0.00         0.00         0.00         0.00   \n",
       "25%           0.00         0.00         0.00         0.00         0.00   \n",
       "50%           0.00         0.00         0.00         0.00         0.00   \n",
       "75%           0.00         0.00         0.00         0.00         0.00   \n",
       "max           1.00         1.00         0.00         1.00         1.00   \n",
       "\n",
       "       Soil_Type18  Soil_Type19  Soil_Type20  Soil_Type21  Soil_Type22  \\\n",
       "count     15120.00     15120.00     15120.00     15120.00     15120.00   \n",
       "mean          0.00         0.00         0.01         0.00         0.02   \n",
       "std           0.05         0.06         0.09         0.03         0.15   \n",
       "min           0.00         0.00         0.00         0.00         0.00   \n",
       "25%           0.00         0.00         0.00         0.00         0.00   \n",
       "50%           0.00         0.00         0.00         0.00         0.00   \n",
       "75%           0.00         0.00         0.00         0.00         0.00   \n",
       "max           1.00         1.00         1.00         1.00         1.00   \n",
       "\n",
       "       Soil_Type23  Soil_Type24  Soil_Type25  Soil_Type26  Soil_Type27  \\\n",
       "count     15120.00     15120.00     15120.00     15120.00     15120.00   \n",
       "mean          0.05         0.02         0.00         0.00         0.00   \n",
       "std           0.22         0.13         0.02         0.06         0.02   \n",
       "min           0.00         0.00         0.00         0.00         0.00   \n",
       "25%           0.00         0.00         0.00         0.00         0.00   \n",
       "50%           0.00         0.00         0.00         0.00         0.00   \n",
       "75%           0.00         0.00         0.00         0.00         0.00   \n",
       "max           1.00         1.00         1.00         1.00         1.00   \n",
       "\n",
       "       Soil_Type28  Soil_Type29  Soil_Type30  Soil_Type31  Soil_Type32  \\\n",
       "count     15120.00     15120.00     15120.00     15120.00     15120.00   \n",
       "mean          0.00         0.09         0.05         0.02         0.04   \n",
       "std           0.02         0.28         0.22         0.14         0.20   \n",
       "min           0.00         0.00         0.00         0.00         0.00   \n",
       "25%           0.00         0.00         0.00         0.00         0.00   \n",
       "50%           0.00         0.00         0.00         0.00         0.00   \n",
       "75%           0.00         0.00         0.00         0.00         0.00   \n",
       "max           1.00         1.00         1.00         1.00         1.00   \n",
       "\n",
       "       Soil_Type33  Soil_Type34  Soil_Type35  Soil_Type36  Soil_Type37  \\\n",
       "count     15120.00     15120.00     15120.00     15120.00     15120.00   \n",
       "mean          0.04         0.00         0.01         0.00         0.00   \n",
       "std           0.20         0.03         0.08         0.03         0.05   \n",
       "min           0.00         0.00         0.00         0.00         0.00   \n",
       "25%           0.00         0.00         0.00         0.00         0.00   \n",
       "50%           0.00         0.00         0.00         0.00         0.00   \n",
       "75%           0.00         0.00         0.00         0.00         0.00   \n",
       "max           1.00         1.00         1.00         1.00         1.00   \n",
       "\n",
       "       Soil_Type38  Soil_Type39  Soil_Type40  Cover_Type  \n",
       "count     15120.00     15120.00     15120.00    15120.00  \n",
       "mean          0.05         0.04         0.03        4.00  \n",
       "std           0.22         0.20         0.17        2.00  \n",
       "min           0.00         0.00         0.00        1.00  \n",
       "25%           0.00         0.00         0.00        2.00  \n",
       "50%           0.00         0.00         0.00        4.00  \n",
       "75%           0.00         0.00         0.00        6.00  \n",
       "max           1.00         1.00         1.00        7.00  "
      ]
     },
     "metadata": {},
     "output_type": "display_data"
    }
   ],
   "source": [
    "display(train_data.describe())"
   ]
  },
  {
   "cell_type": "markdown",
   "metadata": {},
   "source": [
    "* Note that the minimum of 'Vertical_Distance_To_Hydrology' is negative. I suppose that it is normal because some area can be lower than the hydrology source. But since it is negative value, we have to notice that we will not be able to use filter method with chi-sqaured to perform the dimensional reduction. "
   ]
  },
  {
   "cell_type": "markdown",
   "metadata": {},
   "source": [
    "### Regroup features"
   ]
  },
  {
   "cell_type": "markdown",
   "metadata": {},
   "source": [
    "* This will serve for future study and implementation since our features are composed of binary and continuous features. For example, if it is neccesary we will have to create new features using linear combination of continuous features or we will have to do reverse one-hot encoding for binary features."
   ]
  },
  {
   "cell_type": "code",
   "execution_count": 7,
   "metadata": {},
   "outputs": [],
   "source": [
    "continuous_features=train_data.loc[:,'Elevation':'Horizontal_Distance_To_Fire_Points']\n",
    "binary_features=train_data.loc[:,'Wilderness_Area1':'Soil_Type40']\n",
    "wilderness_features=train_data.loc[:,'Wilderness_Area1': 'Wilderness_Area4']\n",
    "soil_features=train_data.loc[:,'Soil_Type1':'Soil_Type40']"
   ]
  },
  {
   "cell_type": "markdown",
   "metadata": {},
   "source": [
    "## Check for Anomalies & Outliers"
   ]
  },
  {
   "cell_type": "markdown",
   "metadata": {},
   "source": [
    "**Extreme Outliers**   \n",
    "    \n",
    "Extreme outliers are data points that are significantly different from the rest of the data in a dataset. They can have a significant impact on the statistical properties of the data and can affect the performance of machine learning models. The extreme outliers is the points where \n",
    "\n",
    "    - x < Q1 - 3 * IQR       \n",
    "    - x > Q3 + 3 * IQR\n",
    "   \n",
    "where IQR = third_quartile - first_quartile"
   ]
  },
  {
   "cell_type": "code",
   "execution_count": 8,
   "metadata": {},
   "outputs": [],
   "source": [
    "def outlier_function(df, col_name):\n",
    "    first_quartile = np.percentile(np.array(df[col_name].tolist()), 25)\n",
    "    third_quartile = np.percentile(np.array(df[col_name].tolist()), 75)\n",
    "    IQR = third_quartile - first_quartile\n",
    "                      \n",
    "    upper_limit = third_quartile+(3*IQR)\n",
    "    lower_limit = first_quartile-(3*IQR)\n",
    "    outlier_count = 0\n",
    "                      \n",
    "    for value in df[col_name].tolist():\n",
    "        if (value < lower_limit) | (value > upper_limit):\n",
    "            outlier_count +=1\n",
    "    return lower_limit, upper_limit, outlier_count"
   ]
  },
  {
   "cell_type": "code",
   "execution_count": 9,
   "metadata": {},
   "outputs": [
    {
     "name": "stdout",
     "output_type": "stream",
     "text": [
      "There are 33 outliers in Horizontal_Distance_To_Hydrology\n",
      "There are 51 outliers in Vertical_Distance_To_Hydrology\n",
      "There are 10 outliers in Hillshade_9am\n",
      "There are 15 outliers in Hillshade_Noon\n",
      "There are 158 outliers in Horizontal_Distance_To_Fire_Points\n",
      "There are 3568 outliers in Wilderness_Area1\n",
      "There are 569 outliers in Wilderness_Area2\n",
      "There are 339 outliers in Soil_Type1\n",
      "There are 627 outliers in Soil_Type2\n",
      "There are 1006 outliers in Soil_Type3\n",
      "There are 839 outliers in Soil_Type4\n",
      "There are 181 outliers in Soil_Type5\n",
      "There are 679 outliers in Soil_Type6\n",
      "There are 1 outliers in Soil_Type7\n",
      "There are 2 outliers in Soil_Type8\n",
      "There are 4 outliers in Soil_Type9\n",
      "There are 2096 outliers in Soil_Type10\n",
      "There are 376 outliers in Soil_Type11\n",
      "There are 260 outliers in Soil_Type12\n",
      "There are 513 outliers in Soil_Type13\n",
      "There are 173 outliers in Soil_Type14\n",
      "There are 106 outliers in Soil_Type16\n",
      "There are 640 outliers in Soil_Type17\n",
      "There are 44 outliers in Soil_Type18\n",
      "There are 53 outliers in Soil_Type19\n",
      "There are 132 outliers in Soil_Type20\n",
      "There are 10 outliers in Soil_Type21\n",
      "There are 332 outliers in Soil_Type22\n",
      "There are 742 outliers in Soil_Type23\n",
      "There are 265 outliers in Soil_Type24\n",
      "There are 6 outliers in Soil_Type25\n",
      "There are 48 outliers in Soil_Type26\n",
      "There are 8 outliers in Soil_Type27\n",
      "There are 7 outliers in Soil_Type28\n",
      "There are 1308 outliers in Soil_Type29\n",
      "There are 736 outliers in Soil_Type30\n",
      "There are 304 outliers in Soil_Type31\n",
      "There are 663 outliers in Soil_Type32\n",
      "There are 619 outliers in Soil_Type33\n",
      "There are 18 outliers in Soil_Type34\n",
      "There are 103 outliers in Soil_Type35\n",
      "There are 14 outliers in Soil_Type36\n",
      "There are 32 outliers in Soil_Type37\n",
      "There are 744 outliers in Soil_Type38\n",
      "There are 634 outliers in Soil_Type39\n",
      "There are 456 outliers in Soil_Type40\n"
     ]
    }
   ],
   "source": [
    "# loop through all columns to see if there are any outliers\n",
    "for column in train_data.columns:\n",
    "    if outlier_function(train_data, column)[2] > 0:\n",
    "        print(\"There are {} outliers in {}\".format(outlier_function(train_data, column)[2], column))"
   ]
  },
  {
   "cell_type": "markdown",
   "metadata": {},
   "source": [
    "For binary features, the data is in range of [0,255]. Thus I don't think it is neccesary to eliminate them. \n",
    "\n",
    "I am interested in eliminating the outliers for the following columns:\n",
    "\n",
    "   - Horizontal_Distance_To_Hydrology\n",
    "   - Vertical_Distance_To_Hydrology\n",
    "   - Horizontal_Distance_To_Fire_Points\n",
    "    \n",
    "We see that 'Horizontal_Distance_To_Fire_Points' has the highest outliers. Therefore, Eliminating it might result in eliminating others as well."
   ]
  },
  {
   "cell_type": "markdown",
   "metadata": {},
   "source": [
    "## Remove outliers"
   ]
  },
  {
   "cell_type": "markdown",
   "metadata": {},
   "source": [
    "*The code for eliminating the outliers, I commented this because doing this is not improve the performance.*"
   ]
  },
  {
   "cell_type": "code",
   "execution_count": 10,
   "metadata": {},
   "outputs": [],
   "source": [
    "# def remove_outlier(df):\n",
    "#     df = df[(df['Horizontal_Distance_To_Fire_Points'] > outlier_function(df, 'Horizontal_Distance_To_Fire_Points')[0])\n",
    "#            & (df['Horizontal_Distance_To_Fire_Points'] < outlier_function(df, 'Horizontal_Distance_To_Fire_Points')[1])]\n",
    "#     return df"
   ]
  },
  {
   "cell_type": "code",
   "execution_count": 11,
   "metadata": {},
   "outputs": [],
   "source": [
    "# train_data = remove_outlier(train_data)"
   ]
  },
  {
   "cell_type": "code",
   "execution_count": 12,
   "metadata": {},
   "outputs": [],
   "source": [
    "# train_data.shape"
   ]
  },
  {
   "cell_type": "markdown",
   "metadata": {},
   "source": [
    "# Data Analysis"
   ]
  },
  {
   "cell_type": "markdown",
   "metadata": {},
   "source": [
    "**Correlation matrix of continuous features**"
   ]
  },
  {
   "cell_type": "code",
   "execution_count": 13,
   "metadata": {
    "scrolled": true
   },
   "outputs": [
    {
     "data": {
      "text/plain": [
       "<AxesSubplot:>"
      ]
     },
     "execution_count": 13,
     "metadata": {},
     "output_type": "execute_result"
    },
    {
     "data": {
      "image/png": "[encoded data removed]",
      "text/plain": [
       "<Figure size 1080x576 with 2 Axes>"
      ]
     },
     "metadata": {
      "needs_background": "light"
     },
     "output_type": "display_data"
    }
   ],
   "source": [
    "#Continuous features \n",
    "plt.figure(figsize=(15,8))\n",
    "sns.heatmap(train_data[['Cover_Type'] + continuous_features.columns.values.tolist()].corr(),cmap='magma',linecolor='white',linewidths=1,annot=True)"
   ]
  },
  {
   "cell_type": "code",
   "execution_count": 14,
   "metadata": {},
   "outputs": [
    {
     "data": {
      "text/plain": [
       "<AxesSubplot:>"
      ]
     },
     "execution_count": 14,
     "metadata": {},
     "output_type": "execute_result"
    },
    {
     "data": {
      "image/png": "[encoded data removed]",
      "text/plain": [
       "<Figure size 1080x576 with 2 Axes>"
      ]
     },
     "metadata": {
      "needs_background": "light"
     },
     "output_type": "display_data"
    }
   ],
   "source": [
    "#Wilderness_features\n",
    "plt.figure(figsize=(15,8))\n",
    "sns.heatmap(train_data[['Cover_Type'] + wilderness_features.columns.values.tolist()].corr(),cmap='magma',linecolor='white',linewidths=1,annot=True)"
   ]
  },
  {
   "cell_type": "markdown",
   "metadata": {},
   "source": [
    "* We see that 'Hallshade_9am' is hightly correlated to others so we drop it\n",
    "\n",
    "* We see that 'Wilderness_Area3' and 'Wilderness_Area4' are highly correlated, we might eliminate one of them at the end of the process. \n"
   ]
  },
  {
   "cell_type": "markdown",
   "metadata": {},
   "source": [
    "**There are too many binary features so I think that doing reverse one-hot encoding will probably improve the performance and at least we can do dimensional reduction on those binary features**"
   ]
  },
  {
   "cell_type": "code",
   "execution_count": 15,
   "metadata": {},
   "outputs": [],
   "source": [
    "# Encode soil type ordinally\n",
    "# Reverse one hot encoding for soil_type\n",
    "def categorical_encoding(df):\n",
    "    data = df.copy()\n",
    "    data['Soil_Type'] = 0\n",
    "    for i in range(1,41):\n",
    "        data['Soil_Type'] += i*data[f'Soil_Type{i}']\n",
    "    return data"
   ]
  },
  {
   "cell_type": "code",
   "execution_count": 16,
   "metadata": {},
   "outputs": [],
   "source": [
    "# Encode soil type\n",
    "train_data = categorical_encoding(train_data)"
   ]
  },
  {
   "cell_type": "code",
   "execution_count": 17,
   "metadata": {},
   "outputs": [],
   "source": [
    "# Encode wilderness area ordinally\n",
    "# Reverse one hot encoding for wilderness\n",
    "def categorical_encoding_wilderness(df):\n",
    "    data = df.copy()\n",
    "    data['Wilderness_Area'] = 0\n",
    "    for i in range(1,5):\n",
    "        data['Wilderness_Area'] += i*data[f'Wilderness_Area{i}']\n",
    "    return data"
   ]
  },
  {
   "cell_type": "code",
   "execution_count": 18,
   "metadata": {},
   "outputs": [],
   "source": [
    "# Encode soil type\n",
    "train_data = categorical_encoding_wilderness(train_data)"
   ]
  },
  {
   "cell_type": "markdown",
   "metadata": {},
   "source": [
    "# Feature Engineering & Selection"
   ]
  },
  {
   "cell_type": "markdown",
   "metadata": {},
   "source": [
    "## General Information"
   ]
  },
  {
   "cell_type": "markdown",
   "metadata": {},
   "source": [
    "Soil Types: 1 to 40 : based on the USFS Ecological Landtype Units (ELUs) for this study area, where the ELU is comprised of four digits:\n",
    "\n",
    "   1) First digit: climatic zone\n",
    "   \n",
    "   2) Second digit: geologic zones\n",
    "   \n",
    "So here, intuitively we can extract two new features from the soil_type  which are:\n",
    "\n",
    "   - 'climatic zone'\n",
    "   \n",
    "   - 'geologic zone' "
   ]
  },
  {
   "cell_type": "code",
   "execution_count": 19,
   "metadata": {},
   "outputs": [],
   "source": [
    "# Mapping soil type to ELU code\n",
    "# This help us to extract the climatic zone and geologic zone from the soil_type\n",
    "ELU_CODE = {\n",
    "    1:2702,2:2703,3:2704,4:2705,5:2706,6:2717,7:3501,8:3502,9:4201,\n",
    "    10:4703,11:4704,12:4744,13:4758,14:5101,15:5151,16:6101,17:6102,\n",
    "    18:6731,19:7101,20:7102,21:7103,22:7201,23:7202,24:7700,25:7701,\n",
    "    26:7702,27:7709,28:7710,29:7745,30:7746,31:7755,32:7756,33:7757,\n",
    "    34:7790,35:8703,36:8707,37:8708,38:8771,39:8772,40:8776\n",
    "}"
   ]
  },
  {
   "cell_type": "code",
   "execution_count": 20,
   "metadata": {},
   "outputs": [],
   "source": [
    "#This extract climatic zone of soil_type and add a new feature to our data\n",
    "def climatic_zone(df):\n",
    "    df = df.copy()\n",
    "    df['Climatic_Zone'] = df['Soil_Type'].apply(\n",
    "        lambda x: int(str(ELU_CODE[x])[0])\n",
    "    )\n",
    "    return df"
   ]
  },
  {
   "cell_type": "code",
   "execution_count": 21,
   "metadata": {},
   "outputs": [],
   "source": [
    "#This extract geologic zone from soil_type and add a new feature to our data\n",
    "def geologic_zone(df):\n",
    "    df = df.copy()\n",
    "    df['Geologic_Zone'] = df['Soil_Type'].apply(\n",
    "        lambda x: int(str(ELU_CODE[x])[1])\n",
    "    )\n",
    "    return df"
   ]
  },
  {
   "cell_type": "code",
   "execution_count": 22,
   "metadata": {},
   "outputs": [],
   "source": [
    "train_data = climatic_zone(train_data)\n",
    "train_data = geologic_zone(train_data)"
   ]
  },
  {
   "cell_type": "markdown",
   "metadata": {},
   "source": [
    "On top of that ELUs code, each soil_type has their description. For example, \n",
    "1: ELU 2702, Cathedral family - Rock outcrop complex, extremely stony.\n",
    "We can see that it gives information about the type of surface that cover that area:\n",
    "\n",
    "   - stony\n",
    "   \n",
    "   - very stony\n",
    "   \n",
    "   - extremely stony\n",
    "   \n",
    "   - rubbly\n",
    "   \n",
    "   - no_description (no_desc)\n",
    "    \n",
    "All of these type of surface extract from the last component of the description of each soil type"
   ]
  },
  {
   "cell_type": "code",
   "execution_count": 23,
   "metadata": {},
   "outputs": [],
   "source": [
    "def surface_cover(df):\n",
    "    # Group IDs\n",
    "    # base on ELU code from soil_type\n",
    "    no_desc = [7,8,14,15,16,17,19,20,21,23,35]\n",
    "    stony = [6,12]\n",
    "    very_stony = [2,9,18,26]\n",
    "    extremely_stony = [1,22,24,25,27,28,29,30,31,32,33,34,36,37,38,39,40]\n",
    "    rubbly = [3,4,5,10,11,13]\n",
    "    \n",
    "    # Create dictionary to your the type of surface\n",
    "    surface_cover = {i:0 for i in no_desc}\n",
    "    surface_cover.update({i:1 for i in stony})\n",
    "    surface_cover.update({i:2 for i in very_stony})\n",
    "    surface_cover.update({i:3 for i in extremely_stony})\n",
    "    surface_cover.update({i:4 for i in rubbly})\n",
    "    \n",
    "    # Create Feature\n",
    "    df_temp = df.copy()\n",
    "    df_temp['Surface_Cover'] = df['Soil_Type'].apply(\n",
    "        lambda x: surface_cover[x]\n",
    "    )\n",
    "    return df_temp"
   ]
  },
  {
   "cell_type": "code",
   "execution_count": 24,
   "metadata": {},
   "outputs": [],
   "source": [
    "# Surface Cover\n",
    "train_data = surface_cover(train_data)"
   ]
  },
  {
   "cell_type": "markdown",
   "metadata": {},
   "source": [
    "* On top of surface cover, we can also extract the type of rock by combining the last two components of the description of 'soil_type'."
   ]
  },
  {
   "cell_type": "code",
   "execution_count": 25,
   "metadata": {},
   "outputs": [],
   "source": [
    "def rock_type(df):\n",
    "    \n",
    "    # Group IDs\n",
    "    no_desc = [7,8,14,15,16,17,19,20,21,23,35]\n",
    "    stones = [1,2,6,9,12,18,24,25,26,27,28,29,30,31,32,33,34,36,37,38,39,40]\n",
    "    boulders = [22]\n",
    "    rubble = [3,4,5,10,11,13]\n",
    "\n",
    "    # Create dictionary\n",
    "    rock_size = {i:0 for i in no_desc}\n",
    "    rock_size.update({i:1 for i in stones})\n",
    "    rock_size.update({i:2 for i in boulders})\n",
    "    rock_size.update({i:3 for i in rubble})\n",
    "    \n",
    "    df_temp = df.copy()\n",
    "    df_temp['Rock_Size'] = df['Soil_Type'].apply(\n",
    "        lambda x: rock_size[x]\n",
    "    )\n",
    "    return df_temp"
   ]
  },
  {
   "cell_type": "code",
   "execution_count": 26,
   "metadata": {},
   "outputs": [],
   "source": [
    "# Surface Cover\n",
    "train_data = rock_type(train_data)"
   ]
  },
  {
   "cell_type": "markdown",
   "metadata": {},
   "source": [
    "**Wilderness Areas:**\n",
    "\n",
    "   1) Rawah Wilderness Area\n",
    "\n",
    "   2) Neota Wilderness Area\n",
    "\n",
    "   3) Comanche Peak Wilderness Area\n",
    "    \n",
    "   4) Cache la Poudre Wilderness Area\n",
    "\n",
    "   So, by doing linear combination between 'Wilderness_Area' and 'Climatic_Zone','Rock_Size','Surface_Cover', we can get new features that can possibly capture non-linear relatinships between features and the target variable."
   ]
  },
  {
   "cell_type": "code",
   "execution_count": 27,
   "metadata": {},
   "outputs": [],
   "source": [
    "def non_linear_relationship(data):\n",
    "    df = data.copy()\n",
    "        \n",
    "    #  New Feature\n",
    "    df['Climate_Area1'] = df['Wilderness_Area1']*df['Climatic_Zone'] \n",
    "    df['Climate_Area2'] = df['Wilderness_Area2']*df['Climatic_Zone'] \n",
    "    df['Climate_Area3'] = df['Wilderness_Area3']*df['Climatic_Zone'] \n",
    "    df['Climate_Area4'] = df['Wilderness_Area4']*df['Climatic_Zone'] \n",
    "    df['Rock_Area1'] = df['Wilderness_Area1']*df['Rock_Size']\n",
    "    df['Rock_Area2'] = df['Wilderness_Area2']*df['Rock_Size']    \n",
    "    df['Rock_Area3'] = df['Wilderness_Area3']*df['Rock_Size']  \n",
    "    df['Rock_Area4'] = df['Wilderness_Area4']*df['Rock_Size']    \n",
    "    df['Surface_Area1'] = df['Wilderness_Area1']*df['Surface_Cover'] \n",
    "    df['Surface_Area2'] = df['Wilderness_Area2']*df['Surface_Cover'] \n",
    "    df['Surface_Area3'] = df['Wilderness_Area3']*df['Surface_Cover'] \n",
    "    df['Surface_Area4'] = df['Wilderness_Area4']*df['Surface_Cover'] \n",
    "    \n",
    "    return df"
   ]
  },
  {
   "cell_type": "code",
   "execution_count": 28,
   "metadata": {},
   "outputs": [],
   "source": [
    "train_data = non_linear_relationship(train_data)"
   ]
  },
  {
   "cell_type": "markdown",
   "metadata": {},
   "source": [
    "**Linear Combination of continuous features** \n",
    "\n",
    "   Linear combinations of features can improve the performance of a machine learning model in some cases because they can capture non-linear relationships between the features and the target variable."
   ]
  },
  {
   "cell_type": "code",
   "execution_count": 29,
   "metadata": {},
   "outputs": [],
   "source": [
    "def new_features(data):\n",
    "    df = data.copy()\n",
    "    df['linear_EleVert1'] = abs(df['Elevation'] - df['Vertical_Distance_To_Hydrology'])\n",
    "    df['linear_EleVert2'] = abs(df['Elevation'] + df['Vertical_Distance_To_Hydrology'])\n",
    "    df['linear_HydroFire1'] = abs(df['Horizontal_Distance_To_Hydrology'] + df['Horizontal_Distance_To_Fire_Points'])\n",
    "    df['linear_HydroFire2'] = abs(df['Horizontal_Distance_To_Hydrology'] - df['Horizontal_Distance_To_Fire_Points'])\n",
    "    df['linear_HydroRoad1'] = abs(df['Horizontal_Distance_To_Hydrology'] + df['Horizontal_Distance_To_Roadways'])\n",
    "    df['linear_HydroRoad2'] = abs(df['Horizontal_Distance_To_Hydrology'] - df['Horizontal_Distance_To_Roadways'])\n",
    "    df['linear_FireRoad1'] = abs(df['Horizontal_Distance_To_Fire_Points'] + df['Horizontal_Distance_To_Roadways'])\n",
    "    df['linear_FireRoad2'] = abs(df['Horizontal_Distance_To_Fire_Points'] - df['Horizontal_Distance_To_Roadways'])\n",
    "    df['linear_meanHorizon'] = (df['Horizontal_Distance_To_Roadways']  + df['Horizontal_Distance_To_Fire_Points'] + df['Horizontal_Distance_To_Hydrology'])/3\n",
    "    df['linear_RoadEle1'] = df['Elevation'] + df['Horizontal_Distance_To_Roadways']\n",
    "    df['linear_RoadEle2'] = abs(df['Elevation'] - df['Horizontal_Distance_To_Roadways'])\n",
    "    df['linear_EleHor1'] = abs(df['Elevation'] + df['Horizontal_Distance_To_Fire_Points'])\n",
    "    df['linear_EleHor2'] = abs(df['Elevation'] - df['Horizontal_Distance_To_Fire_Points'])\n",
    "    df['Combination_RoadEle'] = df['Horizontal_Distance_To_Roadways'] * df['Elevation']\n",
    "    df['Combination_FireEle'] = df['Horizontal_Distance_To_Fire_Points'] * df['Elevation']\n",
    "    df['Combination_HydroEle'] = df['Horizontal_Distance_To_Hydrology'] * df['Elevation']\n",
    "    df['Combination_VertEle'] = abs(df['Vertical_Distance_To_Hydrology'] * df['Elevation'])\n",
    "    \n",
    "    return df"
   ]
  },
  {
   "cell_type": "code",
   "execution_count": 30,
   "metadata": {},
   "outputs": [],
   "source": [
    "# misc feature engineering\n",
    "train_data = new_features(train_data)"
   ]
  },
  {
   "cell_type": "markdown",
   "metadata": {},
   "source": [
    "* After doing reverse one-hot encoding and extract all useful information from 'soil_type', we can drop it(dimensional reduction because there are two many soil_type)."
   ]
  },
  {
   "cell_type": "code",
   "execution_count": 31,
   "metadata": {},
   "outputs": [],
   "source": [
    "train_data.drop(columns = soil_features, inplace = True)"
   ]
  },
  {
   "cell_type": "markdown",
   "metadata": {},
   "source": [
    "### Alternative of Dimensional Reduction"
   ]
  },
  {
   "cell_type": "code",
   "execution_count": 32,
   "metadata": {},
   "outputs": [],
   "source": [
    "labels_training = train_data['Cover_Type']"
   ]
  },
  {
   "cell_type": "markdown",
   "metadata": {},
   "source": [
    "##### 1) Feature selection using ANOVA or Chi-squared"
   ]
  },
  {
   "cell_type": "code",
   "execution_count": 33,
   "metadata": {},
   "outputs": [],
   "source": [
    "X_train, X_valid, y_train, y_valid = train_test_split(train_data, labels_training, test_size=0.2, random_state=42)"
   ]
  },
  {
   "cell_type": "code",
   "execution_count": 34,
   "metadata": {},
   "outputs": [
    {
     "name": "stdout",
     "output_type": "stream",
     "text": [
      "Selected features: ['Elevation', 'Horizontal_Distance_To_Roadways', 'Horizontal_Distance_To_Fire_Points', 'Wilderness_Area1', 'Wilderness_Area4', 'Cover_Type', 'Soil_Type', 'Wilderness_Area', 'Climatic_Zone', 'Rock_Size', 'Climate_Area1', 'Climate_Area3', 'Climate_Area4', 'Rock_Area1', 'Rock_Area4', 'Surface_Area1', 'Surface_Area4', 'linear_EleVert1', 'linear_EleVert2', 'linear_HydroFire1', 'linear_HydroFire2', 'linear_HydroRoad1', 'linear_HydroRoad2', 'linear_FireRoad1', 'linear_meanHorizon', 'linear_RoadEle1', 'linear_EleHor1', 'Combination_RoadEle', 'Combination_FireEle', 'Combination_HydroEle']\n"
     ]
    }
   ],
   "source": [
    "# Feature Selection using ANOVA \n",
    "# Alternative we can use chi2 but chi2 doesn't allow us to pass the non-negative value.\n",
    "from sklearn.feature_selection import SelectKBest, f_classif\n",
    "\n",
    "#select 30 most important features\n",
    "selector = SelectKBest(f_classif, k=30)\n",
    "X_selected = selector.fit_transform(X_train.drop(['Id'],axis=1), y_train)\n",
    "\n",
    "# Get the names of the selected features\n",
    "feature_names = [X_train.drop(['Id'],axis=1).columns.values[i] for i in selector.get_support(indices=True)]\n",
    "print(f\"Selected features: {feature_names}\")"
   ]
  },
  {
   "cell_type": "code",
   "execution_count": 39,
   "metadata": {},
   "outputs": [
    {
     "name": "stdout",
     "output_type": "stream",
     "text": [
      "14 Cover_Type: inf\n",
      "0 Elevation: 13141.225\n",
      "33 linear_EleVert1: 12616.765\n",
      "34 linear_EleVert2: 10358.501\n",
      "15 Soil_Type: 5192.002\n",
      "17 Climatic_Zone: 4167.754\n",
      "13 Wilderness_Area4: 3997.229\n",
      "16 Wilderness_Area: 2339.319\n",
      "24 Climate_Area4: 2160.668\n",
      "42 linear_RoadEle1: 2059.651\n",
      "44 linear_EleHor1: 1666.767\n",
      "32 Surface_Area4: 1533.081\n",
      "28 Rock_Area4: 1440.904\n",
      "46 Combination_RoadEle: 1412.617\n",
      "41 linear_meanHorizon: 1340.118\n",
      "39 linear_FireRoad1: 1222.717\n",
      "37 linear_HydroRoad1: 1170.103\n",
      "5 Horizontal_Distance_To_Roadways: 1016.287\n",
      "47 Combination_FireEle: 966.701\n",
      "38 linear_HydroRoad2: 828.123\n",
      "35 linear_HydroFire1: 752.061\n",
      "10 Wilderness_Area1: 723.548\n",
      "21 Climate_Area1: 663.532\n",
      "20 Rock_Size: 660.496\n",
      "9 Horizontal_Distance_To_Fire_Points: 615.408\n",
      "23 Climate_Area3: 581.097\n",
      "25 Rock_Area1: 543.686\n",
      "29 Surface_Area1: 515.552\n",
      "48 Combination_HydroEle: 514.111\n",
      "36 linear_HydroFire2: 466.736\n",
      "40 linear_FireRoad2: 464.770\n",
      "12 Wilderness_Area3: 354.932\n",
      "6 Hillshade_9am: 317.234\n",
      "3 Horizontal_Distance_To_Hydrology: 310.138\n",
      "2 Slope: 248.724\n",
      "31 Surface_Area3: 246.099\n",
      "27 Rock_Area3: 242.514\n",
      "18 Geologic_Zone: 154.942\n",
      "22 Climate_Area2: 154.533\n",
      "8 Hillshade_3pm: 154.089\n",
      "11 Wilderness_Area2: 151.333\n",
      "30 Surface_Area2: 134.972\n",
      "49 Combination_VertEle: 131.014\n",
      "26 Rock_Area2: 112.758\n",
      "19 Surface_Cover: 112.045\n",
      "7 Hillshade_Noon: 95.335\n",
      "43 linear_RoadEle2: 71.151\n",
      "4 Vertical_Distance_To_Hydrology: 50.976\n",
      "1 Aspect: 37.661\n",
      "45 linear_EleHor2: 10.564\n"
     ]
    }
   ],
   "source": [
    "# Show the sorted list of f-values for each features\n",
    "# Compute the ANOVA F-value for each feature\n",
    "f_values, p_values = f_classif(X_train.drop(['Id'],axis=1), y_train)\n",
    "\n",
    "# Sort the features based on their F-value\n",
    "sorted_indices = np.argsort(f_values)[::-1]\n",
    "# print(sorted_indices)\n",
    "# I commented this in order to shorted the pdf\n",
    "# Print the sorted F-values and feature names\n",
    "for i in sorted_indices:\n",
    "    print(i,f\"{X_train.drop(['Id'],axis=1).columns.values[i]}: {f_values[i]:.3f}\")"
   ]
  },
  {
   "cell_type": "markdown",
   "metadata": {},
   "source": [
    "We can drop the features that has small F-value which improve the performance of our model."
   ]
  },
  {
   "cell_type": "markdown",
   "metadata": {},
   "source": [
    "##### 2) Using PCA to do the dimensional reduction\n",
    "\n",
    "Before performing PCA, we need to do standard scaler to our data because PCA is affected by scale because it is based on the variance of the features in the dataset."
   ]
  },
  {
   "cell_type": "code",
   "execution_count": 36,
   "metadata": {},
   "outputs": [],
   "source": [
    "# Select the features\n",
    "X = train_data.drop(columns='Cover_Type')\n",
    "\n",
    "# Create a StandardScaler object\n",
    "scaler = StandardScaler()\n",
    "\n",
    "# Fit the StandardScaler object to the data\n",
    "scaler.fit(X)\n",
    "\n",
    "# Transform the data using the StandardScaler object\n",
    "X_scaled = scaler.transform(X)\n",
    "\n",
    "# Create a PCA object with n_components=30\n",
    "# Here we can choose the number of components \n",
    "pca = PCA(n_components=30)\n",
    "\n",
    "#Or using n_components = 0.95 (for 95% captures of variance)\n",
    "# #Compute the cumulative sum of the variance ratios\n",
    "# cumulative_variance = np.cumsum(pca.explained_variance_ratio_)\n",
    "# #Find the number of components that explain 95% of the variance\n",
    "# n_components = np.argmax(cumulative_variance >= 0.95) + 1\n",
    "\n",
    "#Fit the PCA object to the scaled data\n",
    "pca.fit(X_scaled)\n",
    "\n",
    "#Transform the scaled data using the PCA object\n",
    "X_pca = pca.transform(X_scaled)"
   ]
  },
  {
   "cell_type": "markdown",
   "metadata": {},
   "source": [
    "* I will use none of these methods, because they doesn't improve the performance and I prefer to elimate the features by hand."
   ]
  },
  {
   "cell_type": "markdown",
   "metadata": {},
   "source": [
    "## Models Comparison"
   ]
  },
  {
   "cell_type": "code",
   "execution_count": 36,
   "metadata": {},
   "outputs": [],
   "source": [
    "X_train = X_train.drop(['Cover_Type'],axis=1)\n",
    "X_valid = X_valid.drop(['Cover_Type'],axis=1)"
   ]
  },
  {
   "cell_type": "code",
   "execution_count": 37,
   "metadata": {},
   "outputs": [
    {
     "name": "stdout",
     "output_type": "stream",
     "text": [
      "Training Data Shape: (12096, 50)\n",
      "Validation Data Shape: (3024, 50)\n"
     ]
    }
   ],
   "source": [
    "print('Training Data Shape:', X_train.shape)\n",
    "print('Validation Data Shape:', X_valid.shape)"
   ]
  },
  {
   "cell_type": "code",
   "execution_count": 38,
   "metadata": {},
   "outputs": [
    {
     "name": "stdout",
     "output_type": "stream",
     "text": [
      "Training Label Shape: (12096,)\n",
      "Validation Label Shape: (3024,)\n"
     ]
    }
   ],
   "source": [
    "print('Training Label Shape:', y_train.shape)\n",
    "print('Validation Label Shape:', y_valid.shape)"
   ]
  },
  {
   "cell_type": "markdown",
   "metadata": {},
   "source": [
    "### Model that we are going to use"
   ]
  },
  {
   "cell_type": "markdown",
   "metadata": {},
   "source": [
    "   1) K-Nearest Neighbors Classifier\n",
    "   \n",
    "   2) Decision Tree Classifier\n",
    "   \n",
    "   3) Random Forest Classifier\n",
    "    \n",
    "   4) Extra Trees (Random Forests) Classifier\n",
    "   \n",
    "   5) Support Vector Machine Classifier\n",
    "   \n",
    "   6) Extreme Gradient Boosting (XGBoost) Classifier\n",
    "   \n",
    "   7) Naive Bayes Classifier\n",
    "   \n",
    "   8) Neural Network Classifier \n",
    "   \n",
    "   and compare the results on accuracy score. Then I will select the best model with the highest accuracy score for use."
   ]
  },
  {
   "cell_type": "markdown",
   "metadata": {},
   "source": [
    "### Compare model with scaled data set \n",
    "\n",
    "* Some models of machine learning will produce the correct result only in case of the data is centered and has unit variance. "
   ]
  },
  {
   "cell_type": "code",
   "execution_count": 39,
   "metadata": {},
   "outputs": [],
   "source": [
    "# create scaler\n",
    "scaler = StandardScaler()\n",
    "\n",
    "# apply normalization to training set and transform training set\n",
    "X_train_scaled = scaler.fit_transform(X_train.drop(['Id'],axis=1), y_train)\n",
    "\n",
    "# transform validation set\n",
    "X_valid_scaled = scaler.transform(X_valid.drop(['Id'],axis=1))"
   ]
  },
  {
   "cell_type": "code",
   "execution_count": 40,
   "metadata": {},
   "outputs": [
    {
     "data": {
      "text/plain": [
       "MLPClassifier(hidden_layer_sizes=(50, 50), max_iter=1000)"
      ]
     },
     "execution_count": 40,
     "metadata": {},
     "output_type": "execute_result"
    }
   ],
   "source": [
    "#Compare all classifier \n",
    "# --------------------\n",
    "#Fit models\n",
    "#knn\n",
    "knn_classifier = KNeighborsClassifier()\n",
    "knn_classifier.fit(X_train_scaled,y_train)\n",
    "#decision tree\n",
    "decision_clf = DecisionTreeClassifier()\n",
    "decision_clf.fit(X_train_scaled,y_train)\n",
    "#random forest\n",
    "forest_clf = RandomForestClassifier()\n",
    "forest_clf.fit(X_train_scaled,y_train)\n",
    "#XGB\n",
    "xgb_clf = XGBClassifier()\n",
    "xgb_clf.fit(X_train_scaled,y_train)\n",
    "#Tree\n",
    "xrf_clf = ExtraTreesClassifier()\n",
    "xrf_clf.fit(X_train_scaled,y_train)\n",
    "#SVM \n",
    "svm_clf = SVC()\n",
    "svm_clf.fit(X_train_scaled,y_train)\n",
    "#naive bayes\n",
    "gaussian_clf = GaussianNB()\n",
    "gaussian_clf.fit(X_train_scaled,y_train)\n",
    "#NN\n",
    "nn_clf = MLPClassifier(hidden_layer_sizes=(50, 50), max_iter=1000)\n",
    "nn_clf.fit(X_train_scaled,y_train)"
   ]
  },
  {
   "cell_type": "code",
   "execution_count": 41,
   "metadata": {},
   "outputs": [
    {
     "name": "stdout",
     "output_type": "stream",
     "text": [
      "Accuracy  of  knn_classifier is:  0.8128306878306878\n",
      "Cross Validation Score of  knn_classifier is :  0.6980794701986754\n",
      "Accuracy  of  decision tree is:  0.7953042328042328\n",
      "Cross Validation Score of  decision tree is :  0.7182589896557385\n",
      "Accuracy  of  random forest is:  0.8895502645502645\n",
      "Cross Validation Score of  random forest is :  0.8128323572875047\n",
      "Accuracy  of  XGB is:  0.78505291005291\n",
      "Cross Validation Score of  XGB is :  0.7612429533139949\n",
      "Accuracy  of  ExtraTree is:  0.9031084656084656\n",
      "Cross Validation Score of  ExtraTree is :  0.8124963056209294\n",
      "Accuracy  of  SVM is:  0.7728174603174603\n",
      "Cross Validation Score of  SVM is :  0.7248722018499261\n",
      "Accuracy  of  Naive Bayes is:  0.48578042328042326\n",
      "Cross Validation Score of  Naive Bayes is :  0.48115045700837394\n",
      "Accuracy  of  Neural Network is:  0.8382936507936508\n",
      "Cross Validation Score of  Neural Network is :  0.7592622188167041\n"
     ]
    }
   ],
   "source": [
    "#Error of each model, here we use mean absolute error\n",
    "models= [('knn_classifier', knn_classifier),('decision tree', decision_clf), ('random forest', forest_clf), ('XGB', xgb_clf),('ExtraTree', xrf_clf),\n",
    "        ('SVM', svm_clf),('Naive Bayes', gaussian_clf),('Neural Network', nn_clf)]\n",
    "for i, model in models:    \n",
    "    predictions = model.predict(X_valid_scaled)\n",
    "    accuracy = metrics.accuracy_score(y_valid, predictions)\n",
    "    print('Accuracy  of ', i , 'is: ',accuracy)\n",
    "    print('Cross Validation Score of ', i , 'is : ' ,cross_val_score(model, X_valid_scaled, y_valid, cv=5).mean())"
   ]
  },
  {
   "cell_type": "markdown",
   "metadata": {},
   "source": [
    "##### Result\n",
    "   We see that the ExtraTree gives the best performance which has accuracy 0.8935 with CV Score : 0.81(5-Fold). "
   ]
  },
  {
   "cell_type": "markdown",
   "metadata": {},
   "source": [
    "### Compare model with normal data set\n",
    "\n",
    "* Some machine learning model doesn't care about the scale of the data such as the model which build with tree."
   ]
  },
  {
   "cell_type": "code",
   "execution_count": 42,
   "metadata": {},
   "outputs": [
    {
     "data": {
      "text/plain": [
       "MLPClassifier(hidden_layer_sizes=(50, 50), max_iter=1000)"
      ]
     },
     "execution_count": 42,
     "metadata": {},
     "output_type": "execute_result"
    }
   ],
   "source": [
    "#Compare all classifier \n",
    "# --------------------\n",
    "#Fit models\n",
    "#knn\n",
    "knn_classifier = KNeighborsClassifier()\n",
    "knn_classifier.fit(X_train.drop(['Id'],axis=1),y_train)\n",
    "#decision tree\n",
    "decision_clf = DecisionTreeClassifier()\n",
    "decision_clf.fit(X_train.drop(['Id'],axis=1),y_train)\n",
    "#random forest\n",
    "forest_clf = RandomForestClassifier()\n",
    "forest_clf.fit(X_train.drop(['Id'],axis=1),y_train)\n",
    "#XGB\n",
    "xgb_clf = XGBClassifier()\n",
    "xgb_clf.fit(X_train.drop(['Id'],axis=1),y_train)\n",
    "#Tree\n",
    "xrf_clf = ExtraTreesClassifier()\n",
    "xrf_clf.fit(X_train.drop(['Id'],axis=1),y_train)\n",
    "#SVM \n",
    "svm_clf = SVC()\n",
    "svm_clf.fit(X_train.drop(['Id'],axis=1),y_train)\n",
    "#naive bayes\n",
    "gaussian_clf = GaussianNB()\n",
    "gaussian_clf.fit(X_train.drop(['Id'],axis=1),y_train)\n",
    "#NN\n",
    "nn_clf = MLPClassifier(hidden_layer_sizes=(50, 50), max_iter=1000)\n",
    "nn_clf.fit(X_train.drop(['Id'],axis=1), y_train)"
   ]
  },
  {
   "cell_type": "code",
   "execution_count": 43,
   "metadata": {},
   "outputs": [
    {
     "name": "stdout",
     "output_type": "stream",
     "text": [
      "Accuracy  of  knn_classifier is:  0.6121031746031746\n",
      "Cross Validation Score of  knn_classifier is :  0.4672590443872804\n",
      "Accuracy  of  random forest is:  0.8908730158730159\n",
      "Cross Validation Score of  random forest is :  0.8115111378687537\n",
      "Accuracy  of  XGB is:  0.78505291005291\n",
      "Cross Validation Score of  XGB is :  0.7612429533139949\n",
      "Accuracy  of  ExtraTree is:  0.9031084656084656\n",
      "Cross Validation Score of  ExtraTree is :  0.8128257895024902\n",
      "Accuracy  of  SVM is:  0.4212962962962963\n",
      "Cross Validation Score of  SVM is :  0.38525477532702096\n",
      "Accuracy  of  Naive Bayes is:  0.49007936507936506\n",
      "Cross Validation Score of  Naive Bayes is :  0.4933895243829019\n",
      "Accuracy  of  Neural Network is:  0.21726190476190477\n",
      "Cross Validation Score of  Neural Network is :  0.23612391221060697\n"
     ]
    }
   ],
   "source": [
    "#Error of each model, here we use mean absolute error\n",
    "models= [('knn_classifier', knn_classifier), ('random forest', forest_clf), ('XGB', xgb_clf),('ExtraTree', xrf_clf),\n",
    "        ('SVM', svm_clf),('Naive Bayes', gaussian_clf),('Neural Network', nn_clf)]\n",
    "for i, model in models:    \n",
    "    predictions = model.predict(X_valid.drop(['Id'],axis=1))\n",
    "    accuracy = metrics.accuracy_score(y_valid, predictions)\n",
    "    print('Accuracy  of ', i , 'is: ',accuracy)\n",
    "    print('Cross Validation Score of ', i , 'is : ' ,cross_val_score(model, X_valid.drop(['Id'],axis=1), y_valid, cv=5).mean())"
   ]
  },
  {
   "cell_type": "markdown",
   "metadata": {},
   "source": [
    "##### Result\n",
    "\n",
    "   We see that ExtraTree still give the best performance with the non-scaled data. But the other models give poor accuracy, for example:\n",
    "    \n",
    "   - KNN : this is because KNN uses a distance measure, such as Euclidean distance, to find the nearest neighbors of a sample. If the data is not scaled, the features with larger scales may dominate the distance measure, and the algorithm may produce poor results.\n",
    "   \n",
    "   - SVM : If the data is not scaled, the features with larger scales may dominate the distance measure used by the SVM, and the algorithm may produce poor results.\n",
    "   \n",
    "   - NN : It learns by adjusting the weights of the connections between the nodes based on the input data. If the data is not scaled, the features with larger scales may dominate the input to the neural network.\n",
    "\n"
   ]
  },
  {
   "cell_type": "markdown",
   "metadata": {},
   "source": [
    "### Model Choice \n",
    "    \n",
    "   We will choose ExtraTreeClassifier as our final model."
   ]
  },
  {
   "cell_type": "markdown",
   "metadata": {},
   "source": [
    "   We can see the features importants which train this model"
   ]
  },
  {
   "cell_type": "code",
   "execution_count": 44,
   "metadata": {},
   "outputs": [
    {
     "data": {
      "text/html": [
       "<div>\n",
       "<style scoped>\n",
       "    .dataframe tbody tr th:only-of-type {\n",
       "        vertical-align: middle;\n",
       "    }\n",
       "\n",
       "    .dataframe tbody tr th {\n",
       "        vertical-align: top;\n",
       "    }\n",
       "\n",
       "    .dataframe thead th {\n",
       "        text-align: right;\n",
       "    }\n",
       "</style>\n",
       "<table border=\"1\" class=\"dataframe\">\n",
       "  <thead>\n",
       "    <tr style=\"text-align: right;\">\n",
       "      <th></th>\n",
       "      <th>feature</th>\n",
       "      <th>importance</th>\n",
       "    </tr>\n",
       "  </thead>\n",
       "  <tbody>\n",
       "    <tr>\n",
       "      <th>0</th>\n",
       "      <td>linear_EleVert1</td>\n",
       "      <td>0.08</td>\n",
       "    </tr>\n",
       "    <tr>\n",
       "      <th>1</th>\n",
       "      <td>Elevation</td>\n",
       "      <td>0.07</td>\n",
       "    </tr>\n",
       "    <tr>\n",
       "      <th>2</th>\n",
       "      <td>Soil_Type</td>\n",
       "      <td>0.07</td>\n",
       "    </tr>\n",
       "    <tr>\n",
       "      <th>3</th>\n",
       "      <td>Climatic_Zone</td>\n",
       "      <td>0.06</td>\n",
       "    </tr>\n",
       "    <tr>\n",
       "      <th>4</th>\n",
       "      <td>linear_EleVert2</td>\n",
       "      <td>0.05</td>\n",
       "    </tr>\n",
       "    <tr>\n",
       "      <th>5</th>\n",
       "      <td>Wilderness_Area4</td>\n",
       "      <td>0.03</td>\n",
       "    </tr>\n",
       "    <tr>\n",
       "      <th>6</th>\n",
       "      <td>linear_RoadEle1</td>\n",
       "      <td>0.03</td>\n",
       "    </tr>\n",
       "    <tr>\n",
       "      <th>7</th>\n",
       "      <td>Combination_RoadEle</td>\n",
       "      <td>0.03</td>\n",
       "    </tr>\n",
       "    <tr>\n",
       "      <th>8</th>\n",
       "      <td>Hillshade_9am</td>\n",
       "      <td>0.03</td>\n",
       "    </tr>\n",
       "    <tr>\n",
       "      <th>9</th>\n",
       "      <td>Climate_Area3</td>\n",
       "      <td>0.02</td>\n",
       "    </tr>\n",
       "  </tbody>\n",
       "</table>\n",
       "</div>"
      ],
      "text/plain": [
       "               feature  importance\n",
       "0      linear_EleVert1        0.08\n",
       "1            Elevation        0.07\n",
       "2            Soil_Type        0.07\n",
       "3        Climatic_Zone        0.06\n",
       "4      linear_EleVert2        0.05\n",
       "5     Wilderness_Area4        0.03\n",
       "6      linear_RoadEle1        0.03\n",
       "7  Combination_RoadEle        0.03\n",
       "8        Hillshade_9am        0.03\n",
       "9        Climate_Area3        0.02"
      ]
     },
     "execution_count": 44,
     "metadata": {},
     "output_type": "execute_result"
    }
   ],
   "source": [
    "#create list of features\n",
    "features = list(X_train.drop(['Id'],axis=1).columns)\n",
    "\n",
    "# Extract the feature importances into a dataframe\n",
    "feature_results = pd.DataFrame({'feature': features, \n",
    "                                'importance': xrf_clf.feature_importances_})\n",
    "\n",
    "# Show the top 10 most important\n",
    "feature_results = feature_results.sort_values('importance', ascending = False).reset_index(drop=True)\n",
    "feature_results[0:10]"
   ]
  },
  {
   "cell_type": "markdown",
   "metadata": {},
   "source": [
    "# Perform Hyperparameter Tuning on the Best Model"
   ]
  },
  {
   "cell_type": "markdown",
   "metadata": {},
   "source": [
    "## Extra Trees Classifier"
   ]
  },
  {
   "cell_type": "markdown",
   "metadata": {},
   "source": [
    "   The model with default parameters gives us a good performance on training set, but it might be too complex or produce overfitting on the overall dataset, so doing hyperparameter tunning can avoid or reduce overfitting of our model.\n",
    "    \n",
    "   There are two way of doing hyperparameter tuning, there is RandomizedSearchCV and GridSearchCV.\n",
    "   \n",
    "   Here I used GridSearchCV because the ExtraTreesClassifier has a good performance in term of execution time, so I will train all combination of paramters."
   ]
  },
  {
   "cell_type": "code",
   "execution_count": 45,
   "metadata": {},
   "outputs": [],
   "source": [
    "# The number of trees in the forest algorithm, default value is 10.\n",
    "n_estimators = [100, 300, 500]\n",
    "\n",
    "max_depth = [None,10, 20, 30]\n",
    "\n",
    "# The minimum number of samples required to split an internal node, default value is 2.\n",
    "min_samples_split = [2, 3, 5, 7, 9]\n",
    "\n",
    "# The minimum number of samples required to be at a leaf node, default value is 1.\n",
    "min_samples_leaf = [1, 2, 4, 6, 8]\n",
    "\n",
    "# Define the grid of hyperparameters to search\n",
    "hyperparameter_grid = {'n_estimators': n_estimators,\n",
    "                       'max_depth': max_depth,\n",
    "                       'min_samples_leaf': min_samples_leaf,\n",
    "                       'min_samples_split': min_samples_split\n",
    "                       }"
   ]
  },
  {
   "cell_type": "code",
   "execution_count": 46,
   "metadata": {},
   "outputs": [],
   "source": [
    "# create model\n",
    "best_model = ExtraTreesClassifier()\n",
    "\n",
    "# Create the randomized search CV object\n",
    "grid_search = GridSearchCV(best_model, param_grid = hyperparameter_grid, cv = 5, scoring = 'accuracy', verbose = 1,\n",
    "                               n_jobs = -1, return_train_score = True)"
   ]
  },
  {
   "cell_type": "code",
   "execution_count": 47,
   "metadata": {
    "_kg_hide-output": true
   },
   "outputs": [
    {
     "name": "stdout",
     "output_type": "stream",
     "text": [
      "Fitting 5 folds for each of 300 candidates, totalling 1500 fits\n"
     ]
    },
    {
     "data": {
      "text/plain": [
       "GridSearchCV(cv=5, estimator=ExtraTreesClassifier(), n_jobs=-1,\n",
       "             param_grid={'max_depth': [None, 10, 20, 30],\n",
       "                         'min_samples_leaf': [1, 2, 4, 6, 8],\n",
       "                         'min_samples_split': [2, 3, 5, 7, 9],\n",
       "                         'n_estimators': [100, 300, 500]},\n",
       "             return_train_score=True, scoring='accuracy', verbose=1)"
      ]
     },
     "execution_count": 47,
     "metadata": {},
     "output_type": "execute_result"
    }
   ],
   "source": [
    "# Fit on the all training data using random search object\n",
    "grid_search.fit(X_train.drop(['Id'],axis=1), y_train)"
   ]
  },
  {
   "cell_type": "code",
   "execution_count": 48,
   "metadata": {},
   "outputs": [
    {
     "data": {
      "text/plain": [
       "{'max_depth': None,\n",
       " 'min_samples_leaf': 1,\n",
       " 'min_samples_split': 3,\n",
       " 'n_estimators': 300}"
      ]
     },
     "execution_count": 48,
     "metadata": {},
     "output_type": "execute_result"
    }
   ],
   "source": [
    "grid_search.best_params_"
   ]
  },
  {
   "cell_type": "code",
   "execution_count": 49,
   "metadata": {},
   "outputs": [
    {
     "data": {
      "text/plain": [
       "ExtraTreesClassifier(min_samples_split=3, n_estimators=300)"
      ]
     },
     "execution_count": 49,
     "metadata": {},
     "output_type": "execute_result"
    }
   ],
   "source": [
    "grid_search.best_estimator_.fit(X_train.drop(['Id'],axis=1),y_train)"
   ]
  },
  {
   "cell_type": "code",
   "execution_count": 50,
   "metadata": {},
   "outputs": [
    {
     "name": "stdout",
     "output_type": "stream",
     "text": [
      "Accuracy of tunning model is 0.9014550264550265\n",
      "Cross Validation Score of tuning model is :  0.8121668217393685\n"
     ]
    }
   ],
   "source": [
    "y_pred = grid_search.best_estimator_.predict(X_valid.drop(['Id'], axis=1))\n",
    "accuracy = metrics.accuracy_score(y_valid, y_pred)\n",
    "print('Accuracy of tunning model is', accuracy)\n",
    "print('Cross Validation Score of tuning model is : ' ,cross_val_score(grid_search.best_estimator_, X_valid.drop(['Id'],axis=1), y_valid, cv=5).mean())"
   ]
  },
  {
   "cell_type": "markdown",
   "metadata": {},
   "source": [
    "*Before tunning*\n",
    "    \n",
    "   - Accuracy: 0.903\n",
    "   \n",
    "   - CV Score: 0.812\n",
    "   \n",
    "*After tunning*\n",
    "\n",
    "   - Accuracy: 0.901\n",
    "   \n",
    "   - CV Score: 0.812\n",
    " \n",
    " \n",
    "We see that the accuracy of the model doesn't change much, but this can avoid the overfitting on the overall dataset."
   ]
  },
  {
   "cell_type": "markdown",
   "metadata": {},
   "source": [
    "**Confusion Matrix**"
   ]
  },
  {
   "cell_type": "code",
   "execution_count": 51,
   "metadata": {},
   "outputs": [],
   "source": [
    "# create set of y_predictions\n",
    "y_predicted = grid_search.best_estimator_.predict(X_valid.drop(['Id'],axis=1))"
   ]
  },
  {
   "cell_type": "code",
   "execution_count": 52,
   "metadata": {},
   "outputs": [
    {
     "data": {
      "text/plain": [
       "array([[360,  48,   0,   0,   9,   0,  10],\n",
       "       [ 65, 355,   7,   0,  22,  12,   3],\n",
       "       [  0,   0, 352,  16,   4,  28,   0],\n",
       "       [  0,   0,   5, 427,   0,   4,   0],\n",
       "       [  0,   8,   2,   0, 438,   3,   1],\n",
       "       [  0,   1,  25,  10,   1, 378,   0],\n",
       "       [ 14,   0,   0,   0,   0,   0, 416]])"
      ]
     },
     "execution_count": 52,
     "metadata": {},
     "output_type": "execute_result"
    }
   ],
   "source": [
    "confusion_matrix(y_valid,y_predicted)"
   ]
  },
  {
   "cell_type": "code",
   "execution_count": 53,
   "metadata": {},
   "outputs": [
    {
     "data": {
      "text/plain": [
       "2    464\n",
       "5    452\n",
       "4    436\n",
       "7    430\n",
       "1    427\n",
       "6    415\n",
       "3    400\n",
       "Name: Cover_Type, dtype: int64"
      ]
     },
     "execution_count": 53,
     "metadata": {},
     "output_type": "execute_result"
    }
   ],
   "source": [
    "y_valid.value_counts()"
   ]
  },
  {
   "cell_type": "markdown",
   "metadata": {},
   "source": [
    "*We see that our model predict the cover type 3 4 5 6 7 well, but for the cover type 1 2, it is a bit confuse.*"
   ]
  },
  {
   "cell_type": "markdown",
   "metadata": {},
   "source": [
    "# Evaluate the Best Model with Test Data"
   ]
  },
  {
   "cell_type": "code",
   "execution_count": 54,
   "metadata": {},
   "outputs": [],
   "source": [
    "full_test = pd.read_csv('../map553-2022/test-full.csv')"
   ]
  },
  {
   "cell_type": "code",
   "execution_count": 55,
   "metadata": {},
   "outputs": [],
   "source": [
    "full_test = categorical_encoding(full_test)\n",
    "full_test = categorical_encoding_wilderness(full_test)"
   ]
  },
  {
   "cell_type": "code",
   "execution_count": 56,
   "metadata": {},
   "outputs": [],
   "source": [
    "full_test = climatic_zone(full_test)\n",
    "full_test = geologic_zone(full_test)"
   ]
  },
  {
   "cell_type": "code",
   "execution_count": 57,
   "metadata": {},
   "outputs": [],
   "source": [
    "full_test = surface_cover(full_test)"
   ]
  },
  {
   "cell_type": "code",
   "execution_count": 58,
   "metadata": {},
   "outputs": [],
   "source": [
    "full_test = rock_type(full_test)"
   ]
  },
  {
   "cell_type": "code",
   "execution_count": 59,
   "metadata": {},
   "outputs": [],
   "source": [
    "full_test = non_linear_relationship(full_test)"
   ]
  },
  {
   "cell_type": "code",
   "execution_count": 60,
   "metadata": {},
   "outputs": [],
   "source": [
    "full_test = new_features(full_test)"
   ]
  },
  {
   "cell_type": "code",
   "execution_count": 61,
   "metadata": {},
   "outputs": [],
   "source": [
    "full_test.drop(columns = soil_features, inplace = True)"
   ]
  },
  {
   "cell_type": "markdown",
   "metadata": {},
   "source": [
    "   Make sure of the test data shape and there aren't any missing values"
   ]
  },
  {
   "cell_type": "code",
   "execution_count": 62,
   "metadata": {},
   "outputs": [
    {
     "name": "stdout",
     "output_type": "stream",
     "text": [
      "Test Data Shape: (581012, 50)\n"
     ]
    }
   ],
   "source": [
    "print('Test Data Shape:', full_test.shape)"
   ]
  },
  {
   "cell_type": "code",
   "execution_count": 63,
   "metadata": {},
   "outputs": [],
   "source": [
    "# #I commented this in order to shorten the pdf\n",
    "# full_test.info()"
   ]
  },
  {
   "cell_type": "code",
   "execution_count": 69,
   "metadata": {},
   "outputs": [
    {
     "data": {
      "text/plain": [
       "ExtraTreesClassifier(min_samples_split=3, n_estimators=300)"
      ]
     },
     "execution_count": 69,
     "metadata": {},
     "output_type": "execute_result"
    }
   ],
   "source": [
    "# fit the best estimator\n",
    "grid_search.best_estimator_.fit(train_data.drop(['Id'],axis=1).drop(['Cover_Type'],axis=1), train_data['Cover_Type'])"
   ]
  },
  {
   "cell_type": "code",
   "execution_count": 70,
   "metadata": {},
   "outputs": [],
   "source": [
    "y_pred = grid_search.best_estimator_.predict(full_test.drop(['Id'], axis=1))\n",
    "# y_pred = clf.predict(full_test.drop(['Id'], axis=1))\n",
    "y_pred = [int(value) if value >= 0 else 0 for value in y_pred]\n",
    "# Dump the results into a file that follows the required Kaggle template\n",
    "with open(\"submit.csv\", 'w') as f:\n",
    "    writer = csv.writer(f)\n",
    "    writer.writerow([\"Id\", \"Cover_Type\"])\n",
    "    for index, prediction in enumerate(y_pred):\n",
    "        writer.writerow([str(full_test['Id'].iloc[index]) , str(int(prediction))])"
   ]
  },
  {
   "cell_type": "markdown",
   "metadata": {},
   "source": [
    "### Kaggle Result"
   ]
  },
  {
   "cell_type": "code",
   "execution_count": 1,
   "metadata": {},
   "outputs": [
    {
     "data": {
      "image/png": "[encoded data removed]",
      "text/plain": [
       "<IPython.core.display.Image object>"
      ]
     },
     "execution_count": 1,
     "metadata": {},
     "output_type": "execute_result"
    }
   ],
   "source": [
    "from IPython.display import Image\n",
    "Image(filename='result1.png') "
   ]
  }
 ],
 "metadata": {
  "kernelspec": {
   "display_name": "Python 3 (ipykernel)",
   "language": "python",
   "name": "python3"
  },
  "language_info": {
   "codemirror_mode": {
    "name": "ipython",
    "version": 3
   },
   "file_extension": ".py",
   "mimetype": "text/x-python",
   "name": "python",
   "nbconvert_exporter": "python",
   "pygments_lexer": "ipython3",
   "version": "3.9.12"
  },
  "vscode": {
   "interpreter": {
    "hash": "397704579725e15f5c7cb49fe5f0341eb7531c82d19f2c29d197e8b64ab5776b"
   }
  }
 },
 "nbformat": 4,
 "nbformat_minor": 1
}
